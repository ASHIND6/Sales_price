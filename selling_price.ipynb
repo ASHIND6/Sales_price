{
 "cells": [
  {
   "cell_type": "markdown",
   "metadata": {},
   "source": [
    "# Preparing the data"
   ]
  },
  {
   "cell_type": "code",
   "execution_count": 54,
   "metadata": {
    "collapsed": false
   },
   "outputs": [],
   "source": [
    "import pandas as pd\n",
    "import numpy as np\n",
    "import sklearn\n",
    "from sklearn.model_selection import cross_val_score\n",
    "from sklearn.model_selection import KFold\n",
    "from sklearn.preprocessing import StandardScaler\n",
    "from sklearn.pipeline import Pipeline\n",
    "from sklearn.preprocessing import OneHotEncoder\n",
    "from sklearn.grid_search import GridSearchCV \n",
    "from sklearn.pipeline import Pipeline\n",
    "from sklearn.ensemble import RandomForestRegressor\n",
    "from sklearn.linear_model import (LinearRegression, Ridge, \n",
    "                                  Lasso, RandomizedLasso)\n",
    "import tensorflow as tf\n",
    "import math"
   ]
  },
  {
   "cell_type": "code",
   "execution_count": 2,
   "metadata": {
    "collapsed": false
   },
   "outputs": [],
   "source": [
    "data= pd.read_csv('C:\\\\Users\\\\Ashish2448311\\\\Desktop\\\\nyc-rolling-sales.csv',na_values='?') #read the csv file"
   ]
  },
  {
   "cell_type": "code",
   "execution_count": 3,
   "metadata": {
    "collapsed": false
   },
   "outputs": [
    {
     "data": {
      "text/plain": [
       "(84548, 22)"
      ]
     },
     "execution_count": 3,
     "metadata": {},
     "output_type": "execute_result"
    }
   ],
   "source": [
    "data.shape #data has 84548 observations and 22 features"
   ]
  },
  {
   "cell_type": "code",
   "execution_count": 4,
   "metadata": {
    "collapsed": false
   },
   "outputs": [
    {
     "data": {
      "text/html": [
       "<div>\n",
       "<style scoped>\n",
       "    .dataframe tbody tr th:only-of-type {\n",
       "        vertical-align: middle;\n",
       "    }\n",
       "\n",
       "    .dataframe tbody tr th {\n",
       "        vertical-align: top;\n",
       "    }\n",
       "\n",
       "    .dataframe thead th {\n",
       "        text-align: right;\n",
       "    }\n",
       "</style>\n",
       "<table border=\"1\" class=\"dataframe\">\n",
       "  <thead>\n",
       "    <tr style=\"text-align: right;\">\n",
       "      <th></th>\n",
       "      <th>Unnamed: 0</th>\n",
       "      <th>BOROUGH</th>\n",
       "      <th>NEIGHBORHOOD</th>\n",
       "      <th>BUILDING CLASS CATEGORY</th>\n",
       "      <th>TAX CLASS AT PRESENT</th>\n",
       "      <th>BLOCK</th>\n",
       "      <th>LOT</th>\n",
       "      <th>EASE-MENT</th>\n",
       "      <th>BUILDING CLASS AT PRESENT</th>\n",
       "      <th>ADDRESS</th>\n",
       "      <th>...</th>\n",
       "      <th>RESIDENTIAL UNITS</th>\n",
       "      <th>COMMERCIAL UNITS</th>\n",
       "      <th>TOTAL UNITS</th>\n",
       "      <th>LAND SQUARE FEET</th>\n",
       "      <th>GROSS SQUARE FEET</th>\n",
       "      <th>YEAR BUILT</th>\n",
       "      <th>TAX CLASS AT TIME OF SALE</th>\n",
       "      <th>BUILDING CLASS AT TIME OF SALE</th>\n",
       "      <th>SALE PRICE</th>\n",
       "      <th>SALE DATE</th>\n",
       "    </tr>\n",
       "  </thead>\n",
       "  <tbody>\n",
       "    <tr>\n",
       "      <th>0</th>\n",
       "      <td>4</td>\n",
       "      <td>1</td>\n",
       "      <td>ALPHABET CITY</td>\n",
       "      <td>07 RENTALS - WALKUP APARTMENTS</td>\n",
       "      <td>2A</td>\n",
       "      <td>392</td>\n",
       "      <td>6</td>\n",
       "      <td></td>\n",
       "      <td>C2</td>\n",
       "      <td>153 AVENUE B</td>\n",
       "      <td>...</td>\n",
       "      <td>5</td>\n",
       "      <td>0</td>\n",
       "      <td>5</td>\n",
       "      <td>1633</td>\n",
       "      <td>6440</td>\n",
       "      <td>1900</td>\n",
       "      <td>2</td>\n",
       "      <td>C2</td>\n",
       "      <td>6625000</td>\n",
       "      <td>2017-07-19 00:00:00</td>\n",
       "    </tr>\n",
       "    <tr>\n",
       "      <th>1</th>\n",
       "      <td>5</td>\n",
       "      <td>1</td>\n",
       "      <td>ALPHABET CITY</td>\n",
       "      <td>07 RENTALS - WALKUP APARTMENTS</td>\n",
       "      <td>2</td>\n",
       "      <td>399</td>\n",
       "      <td>26</td>\n",
       "      <td></td>\n",
       "      <td>C7</td>\n",
       "      <td>234 EAST 4TH   STREET</td>\n",
       "      <td>...</td>\n",
       "      <td>28</td>\n",
       "      <td>3</td>\n",
       "      <td>31</td>\n",
       "      <td>4616</td>\n",
       "      <td>18690</td>\n",
       "      <td>1900</td>\n",
       "      <td>2</td>\n",
       "      <td>C7</td>\n",
       "      <td>-</td>\n",
       "      <td>2016-12-14 00:00:00</td>\n",
       "    </tr>\n",
       "    <tr>\n",
       "      <th>2</th>\n",
       "      <td>6</td>\n",
       "      <td>1</td>\n",
       "      <td>ALPHABET CITY</td>\n",
       "      <td>07 RENTALS - WALKUP APARTMENTS</td>\n",
       "      <td>2</td>\n",
       "      <td>399</td>\n",
       "      <td>39</td>\n",
       "      <td></td>\n",
       "      <td>C7</td>\n",
       "      <td>197 EAST 3RD   STREET</td>\n",
       "      <td>...</td>\n",
       "      <td>16</td>\n",
       "      <td>1</td>\n",
       "      <td>17</td>\n",
       "      <td>2212</td>\n",
       "      <td>7803</td>\n",
       "      <td>1900</td>\n",
       "      <td>2</td>\n",
       "      <td>C7</td>\n",
       "      <td>-</td>\n",
       "      <td>2016-12-09 00:00:00</td>\n",
       "    </tr>\n",
       "    <tr>\n",
       "      <th>3</th>\n",
       "      <td>7</td>\n",
       "      <td>1</td>\n",
       "      <td>ALPHABET CITY</td>\n",
       "      <td>07 RENTALS - WALKUP APARTMENTS</td>\n",
       "      <td>2B</td>\n",
       "      <td>402</td>\n",
       "      <td>21</td>\n",
       "      <td></td>\n",
       "      <td>C4</td>\n",
       "      <td>154 EAST 7TH STREET</td>\n",
       "      <td>...</td>\n",
       "      <td>10</td>\n",
       "      <td>0</td>\n",
       "      <td>10</td>\n",
       "      <td>2272</td>\n",
       "      <td>6794</td>\n",
       "      <td>1913</td>\n",
       "      <td>2</td>\n",
       "      <td>C4</td>\n",
       "      <td>3936272</td>\n",
       "      <td>2016-09-23 00:00:00</td>\n",
       "    </tr>\n",
       "    <tr>\n",
       "      <th>4</th>\n",
       "      <td>8</td>\n",
       "      <td>1</td>\n",
       "      <td>ALPHABET CITY</td>\n",
       "      <td>07 RENTALS - WALKUP APARTMENTS</td>\n",
       "      <td>2A</td>\n",
       "      <td>404</td>\n",
       "      <td>55</td>\n",
       "      <td></td>\n",
       "      <td>C2</td>\n",
       "      <td>301 EAST 10TH   STREET</td>\n",
       "      <td>...</td>\n",
       "      <td>6</td>\n",
       "      <td>0</td>\n",
       "      <td>6</td>\n",
       "      <td>2369</td>\n",
       "      <td>4615</td>\n",
       "      <td>1900</td>\n",
       "      <td>2</td>\n",
       "      <td>C2</td>\n",
       "      <td>8000000</td>\n",
       "      <td>2016-11-17 00:00:00</td>\n",
       "    </tr>\n",
       "  </tbody>\n",
       "</table>\n",
       "<p>5 rows × 22 columns</p>\n",
       "</div>"
      ],
      "text/plain": [
       "   Unnamed: 0  BOROUGH   NEIGHBORHOOD  \\\n",
       "0           4        1  ALPHABET CITY   \n",
       "1           5        1  ALPHABET CITY   \n",
       "2           6        1  ALPHABET CITY   \n",
       "3           7        1  ALPHABET CITY   \n",
       "4           8        1  ALPHABET CITY   \n",
       "\n",
       "                       BUILDING CLASS CATEGORY TAX CLASS AT PRESENT  BLOCK  \\\n",
       "0  07 RENTALS - WALKUP APARTMENTS                                2A    392   \n",
       "1  07 RENTALS - WALKUP APARTMENTS                                 2    399   \n",
       "2  07 RENTALS - WALKUP APARTMENTS                                 2    399   \n",
       "3  07 RENTALS - WALKUP APARTMENTS                                2B    402   \n",
       "4  07 RENTALS - WALKUP APARTMENTS                                2A    404   \n",
       "\n",
       "   LOT EASE-MENT BUILDING CLASS AT PRESENT                 ADDRESS  \\\n",
       "0    6                                  C2            153 AVENUE B   \n",
       "1   26                                  C7   234 EAST 4TH   STREET   \n",
       "2   39                                  C7   197 EAST 3RD   STREET   \n",
       "3   21                                  C4     154 EAST 7TH STREET   \n",
       "4   55                                  C2  301 EAST 10TH   STREET   \n",
       "\n",
       "          ...          RESIDENTIAL UNITS  COMMERCIAL UNITS  TOTAL UNITS  \\\n",
       "0         ...                          5                 0            5   \n",
       "1         ...                         28                 3           31   \n",
       "2         ...                         16                 1           17   \n",
       "3         ...                         10                 0           10   \n",
       "4         ...                          6                 0            6   \n",
       "\n",
       "   LAND SQUARE FEET  GROSS SQUARE FEET YEAR BUILT TAX CLASS AT TIME OF SALE  \\\n",
       "0              1633               6440       1900                         2   \n",
       "1              4616              18690       1900                         2   \n",
       "2              2212               7803       1900                         2   \n",
       "3              2272               6794       1913                         2   \n",
       "4              2369               4615       1900                         2   \n",
       "\n",
       "   BUILDING CLASS AT TIME OF SALE  SALE PRICE            SALE DATE  \n",
       "0                              C2     6625000  2017-07-19 00:00:00  \n",
       "1                              C7         -    2016-12-14 00:00:00  \n",
       "2                              C7         -    2016-12-09 00:00:00  \n",
       "3                              C4     3936272  2016-09-23 00:00:00  \n",
       "4                              C2     8000000  2016-11-17 00:00:00  \n",
       "\n",
       "[5 rows x 22 columns]"
      ]
     },
     "execution_count": 4,
     "metadata": {},
     "output_type": "execute_result"
    }
   ],
   "source": [
    "data.head()"
   ]
  },
  {
   "cell_type": "code",
   "execution_count": 5,
   "metadata": {
    "collapsed": false
   },
   "outputs": [
    {
     "name": "stdout",
     "output_type": "stream",
     "text": [
      "Unnamed: 0\n",
      "BOROUGH\n",
      "NEIGHBORHOOD\n",
      "BUILDING CLASS CATEGORY\n",
      "TAX CLASS AT PRESENT\n",
      "BLOCK\n",
      "LOT\n",
      "EASE-MENT\n",
      "BUILDING CLASS AT PRESENT\n",
      "ADDRESS\n",
      "APARTMENT NUMBER\n",
      "ZIP CODE\n",
      "RESIDENTIAL UNITS\n",
      "COMMERCIAL UNITS\n",
      "TOTAL UNITS\n",
      "LAND SQUARE FEET\n",
      "GROSS SQUARE FEET\n",
      "YEAR BUILT\n",
      "TAX CLASS AT TIME OF SALE\n",
      "BUILDING CLASS AT TIME OF SALE\n",
      "SALE PRICE\n",
      "SALE DATE\n"
     ]
    }
   ],
   "source": [
    "for i in data.columns:\n",
    "    print(i)"
   ]
  },
  {
   "cell_type": "code",
   "execution_count": 6,
   "metadata": {
    "collapsed": false
   },
   "outputs": [],
   "source": [
    "## Label encoding the categorical features. \n",
    "from sklearn.preprocessing import LabelEncoder\n",
    "cols = [ 'NEIGHBORHOOD', 'BUILDING CLASS CATEGORY', 'TAX CLASS AT PRESENT', 'BUILDING CLASS AT PRESENT','BUILDING CLASS AT TIME OF SALE']\n",
    "\n",
    "for x in cols:\n",
    "    lbl = LabelEncoder()\n",
    "    data[x] = lbl.fit_transform(data[x])"
   ]
  },
  {
   "cell_type": "code",
   "execution_count": null,
   "metadata": {
    "collapsed": false
   },
   "outputs": [],
   "source": []
  },
  {
   "cell_type": "code",
   "execution_count": 7,
   "metadata": {
    "collapsed": false
   },
   "outputs": [],
   "source": [
    "data=data.drop(['Unnamed: 0','EASE-MENT','ADDRESS','APARTMENT NUMBER','SALE DATE'],axis=1) #dropping these feautures"
   ]
  },
  {
   "cell_type": "code",
   "execution_count": 8,
   "metadata": {
    "collapsed": false
   },
   "outputs": [
    {
     "data": {
      "text/plain": [
       "(84548, 17)"
      ]
     },
     "execution_count": 8,
     "metadata": {},
     "output_type": "execute_result"
    }
   ],
   "source": [
    "data.shape\n"
   ]
  },
  {
   "cell_type": "code",
   "execution_count": 9,
   "metadata": {
    "collapsed": false
   },
   "outputs": [
    {
     "name": "stderr",
     "output_type": "stream",
     "text": [
      "C:\\Users\\Ashish2448311\\Anaconda3\\envs\\tensorflow\\lib\\site-packages\\ipykernel\\__main__.py:1: FutureWarning: convert_objects is deprecated.  To re-infer data dtypes for object columns, use DataFrame.infer_objects()\n",
      "For all other conversions use the data-type specific converters pd.to_datetime, pd.to_timedelta and pd.to_numeric.\n",
      "  if __name__ == '__main__':\n"
     ]
    },
    {
     "data": {
      "text/plain": [
       "BOROUGH                             int64\n",
       "NEIGHBORHOOD                        int64\n",
       "BUILDING CLASS CATEGORY             int64\n",
       "TAX CLASS AT PRESENT                int64\n",
       "BLOCK                               int64\n",
       "LOT                                 int64\n",
       "BUILDING CLASS AT PRESENT           int64\n",
       "ZIP CODE                            int64\n",
       "RESIDENTIAL UNITS                   int64\n",
       "COMMERCIAL UNITS                    int64\n",
       "TOTAL UNITS                         int64\n",
       "LAND SQUARE FEET                  float64\n",
       "GROSS SQUARE FEET                 float64\n",
       "YEAR BUILT                          int64\n",
       "TAX CLASS AT TIME OF SALE           int64\n",
       "BUILDING CLASS AT TIME OF SALE      int64\n",
       "SALE PRICE                        float64\n",
       "dtype: object"
      ]
     },
     "execution_count": 9,
     "metadata": {},
     "output_type": "execute_result"
    }
   ],
   "source": [
    "data.convert_objects(convert_numeric=True).dtypes"
   ]
  },
  {
   "cell_type": "code",
   "execution_count": 10,
   "metadata": {
    "collapsed": false
   },
   "outputs": [],
   "source": [
    "df_ = data.rename(columns={'BUILDING CLASS CATEGORY':'BCC', 'TAX CLASS AT PRESENT':'TCAP','BUILDING CLASS AT PRESENT' :'BCAP', 'ZIP CODE':'ZC',\n",
    "                        'RESIDENTIAL UNITS':'RU','COMMERCIAL UNITS' :'CU', 'TOTAL UNITS':'TU', 'LAND SQUARE FEET':'LSF', \n",
    "                        'GROSS SQUARE FEET':'GSF','YEAR BUILT':'YEAR','TAX CLASS AT TIME OF SALE':'TX','BUILDING CLASS AT TIME OF SALE':'BC','SALE PRICE':'TARGET'})"
   ]
  },
  {
   "cell_type": "code",
   "execution_count": null,
   "metadata": {
    "collapsed": true
   },
   "outputs": [],
   "source": []
  },
  {
   "cell_type": "markdown",
   "metadata": {},
   "source": [
    "# converting - into NAN"
   ]
  },
  {
   "cell_type": "code",
   "execution_count": 11,
   "metadata": {
    "collapsed": false
   },
   "outputs": [],
   "source": [
    "for i in df_.columns:\n",
    "    df_[i]=pd.to_numeric(df_[i], errors='coerce')"
   ]
  },
  {
   "cell_type": "code",
   "execution_count": 12,
   "metadata": {
    "collapsed": false
   },
   "outputs": [
    {
     "data": {
      "text/html": [
       "<div>\n",
       "<style scoped>\n",
       "    .dataframe tbody tr th:only-of-type {\n",
       "        vertical-align: middle;\n",
       "    }\n",
       "\n",
       "    .dataframe tbody tr th {\n",
       "        vertical-align: top;\n",
       "    }\n",
       "\n",
       "    .dataframe thead th {\n",
       "        text-align: right;\n",
       "    }\n",
       "</style>\n",
       "<table border=\"1\" class=\"dataframe\">\n",
       "  <thead>\n",
       "    <tr style=\"text-align: right;\">\n",
       "      <th></th>\n",
       "      <th>BOROUGH</th>\n",
       "      <th>NEIGHBORHOOD</th>\n",
       "      <th>BCC</th>\n",
       "      <th>TCAP</th>\n",
       "      <th>BLOCK</th>\n",
       "      <th>LOT</th>\n",
       "      <th>BCAP</th>\n",
       "      <th>ZC</th>\n",
       "      <th>RU</th>\n",
       "      <th>CU</th>\n",
       "      <th>TU</th>\n",
       "      <th>LSF</th>\n",
       "      <th>GSF</th>\n",
       "      <th>YEAR</th>\n",
       "      <th>TX</th>\n",
       "      <th>BC</th>\n",
       "      <th>TARGET</th>\n",
       "    </tr>\n",
       "  </thead>\n",
       "  <tbody>\n",
       "    <tr>\n",
       "      <th>0</th>\n",
       "      <td>1</td>\n",
       "      <td>1</td>\n",
       "      <td>6</td>\n",
       "      <td>6</td>\n",
       "      <td>392</td>\n",
       "      <td>6</td>\n",
       "      <td>16</td>\n",
       "      <td>10009</td>\n",
       "      <td>5</td>\n",
       "      <td>0</td>\n",
       "      <td>5</td>\n",
       "      <td>1633.0</td>\n",
       "      <td>6440.0</td>\n",
       "      <td>1900</td>\n",
       "      <td>2</td>\n",
       "      <td>15</td>\n",
       "      <td>6625000.0</td>\n",
       "    </tr>\n",
       "    <tr>\n",
       "      <th>1</th>\n",
       "      <td>1</td>\n",
       "      <td>1</td>\n",
       "      <td>6</td>\n",
       "      <td>5</td>\n",
       "      <td>399</td>\n",
       "      <td>26</td>\n",
       "      <td>21</td>\n",
       "      <td>10009</td>\n",
       "      <td>28</td>\n",
       "      <td>3</td>\n",
       "      <td>31</td>\n",
       "      <td>4616.0</td>\n",
       "      <td>18690.0</td>\n",
       "      <td>1900</td>\n",
       "      <td>2</td>\n",
       "      <td>20</td>\n",
       "      <td>NaN</td>\n",
       "    </tr>\n",
       "    <tr>\n",
       "      <th>2</th>\n",
       "      <td>1</td>\n",
       "      <td>1</td>\n",
       "      <td>6</td>\n",
       "      <td>5</td>\n",
       "      <td>399</td>\n",
       "      <td>39</td>\n",
       "      <td>21</td>\n",
       "      <td>10009</td>\n",
       "      <td>16</td>\n",
       "      <td>1</td>\n",
       "      <td>17</td>\n",
       "      <td>2212.0</td>\n",
       "      <td>7803.0</td>\n",
       "      <td>1900</td>\n",
       "      <td>2</td>\n",
       "      <td>20</td>\n",
       "      <td>NaN</td>\n",
       "    </tr>\n",
       "    <tr>\n",
       "      <th>3</th>\n",
       "      <td>1</td>\n",
       "      <td>1</td>\n",
       "      <td>6</td>\n",
       "      <td>7</td>\n",
       "      <td>402</td>\n",
       "      <td>21</td>\n",
       "      <td>18</td>\n",
       "      <td>10009</td>\n",
       "      <td>10</td>\n",
       "      <td>0</td>\n",
       "      <td>10</td>\n",
       "      <td>2272.0</td>\n",
       "      <td>6794.0</td>\n",
       "      <td>1913</td>\n",
       "      <td>2</td>\n",
       "      <td>17</td>\n",
       "      <td>3936272.0</td>\n",
       "    </tr>\n",
       "    <tr>\n",
       "      <th>4</th>\n",
       "      <td>1</td>\n",
       "      <td>1</td>\n",
       "      <td>6</td>\n",
       "      <td>6</td>\n",
       "      <td>404</td>\n",
       "      <td>55</td>\n",
       "      <td>16</td>\n",
       "      <td>10009</td>\n",
       "      <td>6</td>\n",
       "      <td>0</td>\n",
       "      <td>6</td>\n",
       "      <td>2369.0</td>\n",
       "      <td>4615.0</td>\n",
       "      <td>1900</td>\n",
       "      <td>2</td>\n",
       "      <td>15</td>\n",
       "      <td>8000000.0</td>\n",
       "    </tr>\n",
       "  </tbody>\n",
       "</table>\n",
       "</div>"
      ],
      "text/plain": [
       "   BOROUGH  NEIGHBORHOOD  BCC  TCAP  BLOCK  LOT  BCAP     ZC  RU  CU  TU  \\\n",
       "0        1             1    6     6    392    6    16  10009   5   0   5   \n",
       "1        1             1    6     5    399   26    21  10009  28   3  31   \n",
       "2        1             1    6     5    399   39    21  10009  16   1  17   \n",
       "3        1             1    6     7    402   21    18  10009  10   0  10   \n",
       "4        1             1    6     6    404   55    16  10009   6   0   6   \n",
       "\n",
       "      LSF      GSF  YEAR  TX  BC     TARGET  \n",
       "0  1633.0   6440.0  1900   2  15  6625000.0  \n",
       "1  4616.0  18690.0  1900   2  20        NaN  \n",
       "2  2212.0   7803.0  1900   2  20        NaN  \n",
       "3  2272.0   6794.0  1913   2  17  3936272.0  \n",
       "4  2369.0   4615.0  1900   2  15  8000000.0  "
      ]
     },
     "execution_count": 12,
     "metadata": {},
     "output_type": "execute_result"
    }
   ],
   "source": [
    "df_.head()"
   ]
  },
  {
   "cell_type": "code",
   "execution_count": 13,
   "metadata": {
    "collapsed": false
   },
   "outputs": [],
   "source": [
    "y=df_['TARGET']\n",
    "DF=df_.drop(['TARGET'],axis=1)"
   ]
  },
  {
   "cell_type": "code",
   "execution_count": 14,
   "metadata": {
    "collapsed": false
   },
   "outputs": [
    {
     "data": {
      "text/plain": [
       "BOROUGH             0\n",
       "NEIGHBORHOOD        0\n",
       "BCC                 0\n",
       "TCAP                0\n",
       "BLOCK               0\n",
       "LOT                 0\n",
       "BCAP                0\n",
       "ZC                  0\n",
       "RU                  0\n",
       "CU                  0\n",
       "TU                  0\n",
       "LSF             26252\n",
       "GSF             27612\n",
       "YEAR                0\n",
       "TX                  0\n",
       "BC                  0\n",
       "TARGET          14561\n",
       "dtype: int64"
      ]
     },
     "execution_count": 14,
     "metadata": {},
     "output_type": "execute_result"
    }
   ],
   "source": [
    "df_.isnull().sum() # checking for nan values"
   ]
  },
  {
   "cell_type": "markdown",
   "metadata": {},
   "source": [
    "# imputing missing values in features with its mean"
   ]
  },
  {
   "cell_type": "code",
   "execution_count": 15,
   "metadata": {
    "collapsed": false
   },
   "outputs": [],
   "source": [
    "\n",
    "from sklearn.preprocessing import Imputer\n",
    "imputer = Imputer(missing_values = 'NaN', strategy = 'mean', axis = 0)\n",
    "imputer.fit(DF) \n",
    "df= imputer.transform(DF)"
   ]
  },
  {
   "cell_type": "code",
   "execution_count": 16,
   "metadata": {
    "collapsed": false
   },
   "outputs": [],
   "source": [
    "df=pd.DataFrame(df)"
   ]
  },
  {
   "cell_type": "code",
   "execution_count": 17,
   "metadata": {
    "collapsed": false
   },
   "outputs": [
    {
     "data": {
      "text/html": [
       "<div>\n",
       "<style scoped>\n",
       "    .dataframe tbody tr th:only-of-type {\n",
       "        vertical-align: middle;\n",
       "    }\n",
       "\n",
       "    .dataframe tbody tr th {\n",
       "        vertical-align: top;\n",
       "    }\n",
       "\n",
       "    .dataframe thead th {\n",
       "        text-align: right;\n",
       "    }\n",
       "</style>\n",
       "<table border=\"1\" class=\"dataframe\">\n",
       "  <thead>\n",
       "    <tr style=\"text-align: right;\">\n",
       "      <th></th>\n",
       "      <th>0</th>\n",
       "      <th>1</th>\n",
       "      <th>2</th>\n",
       "      <th>3</th>\n",
       "      <th>4</th>\n",
       "      <th>5</th>\n",
       "      <th>6</th>\n",
       "      <th>7</th>\n",
       "      <th>8</th>\n",
       "      <th>9</th>\n",
       "      <th>10</th>\n",
       "      <th>11</th>\n",
       "      <th>12</th>\n",
       "      <th>13</th>\n",
       "      <th>14</th>\n",
       "      <th>15</th>\n",
       "    </tr>\n",
       "  </thead>\n",
       "  <tbody>\n",
       "    <tr>\n",
       "      <th>0</th>\n",
       "      <td>1.0</td>\n",
       "      <td>1.0</td>\n",
       "      <td>6.0</td>\n",
       "      <td>6.0</td>\n",
       "      <td>392.0</td>\n",
       "      <td>6.0</td>\n",
       "      <td>16.0</td>\n",
       "      <td>10009.0</td>\n",
       "      <td>5.0</td>\n",
       "      <td>0.0</td>\n",
       "      <td>5.0</td>\n",
       "      <td>1633.0</td>\n",
       "      <td>6440.0</td>\n",
       "      <td>1900.0</td>\n",
       "      <td>2.0</td>\n",
       "      <td>15.0</td>\n",
       "    </tr>\n",
       "    <tr>\n",
       "      <th>1</th>\n",
       "      <td>1.0</td>\n",
       "      <td>1.0</td>\n",
       "      <td>6.0</td>\n",
       "      <td>5.0</td>\n",
       "      <td>399.0</td>\n",
       "      <td>26.0</td>\n",
       "      <td>21.0</td>\n",
       "      <td>10009.0</td>\n",
       "      <td>28.0</td>\n",
       "      <td>3.0</td>\n",
       "      <td>31.0</td>\n",
       "      <td>4616.0</td>\n",
       "      <td>18690.0</td>\n",
       "      <td>1900.0</td>\n",
       "      <td>2.0</td>\n",
       "      <td>20.0</td>\n",
       "    </tr>\n",
       "    <tr>\n",
       "      <th>2</th>\n",
       "      <td>1.0</td>\n",
       "      <td>1.0</td>\n",
       "      <td>6.0</td>\n",
       "      <td>5.0</td>\n",
       "      <td>399.0</td>\n",
       "      <td>39.0</td>\n",
       "      <td>21.0</td>\n",
       "      <td>10009.0</td>\n",
       "      <td>16.0</td>\n",
       "      <td>1.0</td>\n",
       "      <td>17.0</td>\n",
       "      <td>2212.0</td>\n",
       "      <td>7803.0</td>\n",
       "      <td>1900.0</td>\n",
       "      <td>2.0</td>\n",
       "      <td>20.0</td>\n",
       "    </tr>\n",
       "    <tr>\n",
       "      <th>3</th>\n",
       "      <td>1.0</td>\n",
       "      <td>1.0</td>\n",
       "      <td>6.0</td>\n",
       "      <td>7.0</td>\n",
       "      <td>402.0</td>\n",
       "      <td>21.0</td>\n",
       "      <td>18.0</td>\n",
       "      <td>10009.0</td>\n",
       "      <td>10.0</td>\n",
       "      <td>0.0</td>\n",
       "      <td>10.0</td>\n",
       "      <td>2272.0</td>\n",
       "      <td>6794.0</td>\n",
       "      <td>1913.0</td>\n",
       "      <td>2.0</td>\n",
       "      <td>17.0</td>\n",
       "    </tr>\n",
       "    <tr>\n",
       "      <th>4</th>\n",
       "      <td>1.0</td>\n",
       "      <td>1.0</td>\n",
       "      <td>6.0</td>\n",
       "      <td>6.0</td>\n",
       "      <td>404.0</td>\n",
       "      <td>55.0</td>\n",
       "      <td>16.0</td>\n",
       "      <td>10009.0</td>\n",
       "      <td>6.0</td>\n",
       "      <td>0.0</td>\n",
       "      <td>6.0</td>\n",
       "      <td>2369.0</td>\n",
       "      <td>4615.0</td>\n",
       "      <td>1900.0</td>\n",
       "      <td>2.0</td>\n",
       "      <td>15.0</td>\n",
       "    </tr>\n",
       "  </tbody>\n",
       "</table>\n",
       "</div>"
      ],
      "text/plain": [
       "    0    1    2    3      4     5     6        7     8    9     10      11  \\\n",
       "0  1.0  1.0  6.0  6.0  392.0   6.0  16.0  10009.0   5.0  0.0   5.0  1633.0   \n",
       "1  1.0  1.0  6.0  5.0  399.0  26.0  21.0  10009.0  28.0  3.0  31.0  4616.0   \n",
       "2  1.0  1.0  6.0  5.0  399.0  39.0  21.0  10009.0  16.0  1.0  17.0  2212.0   \n",
       "3  1.0  1.0  6.0  7.0  402.0  21.0  18.0  10009.0  10.0  0.0  10.0  2272.0   \n",
       "4  1.0  1.0  6.0  6.0  404.0  55.0  16.0  10009.0   6.0  0.0   6.0  2369.0   \n",
       "\n",
       "        12      13   14    15  \n",
       "0   6440.0  1900.0  2.0  15.0  \n",
       "1  18690.0  1900.0  2.0  20.0  \n",
       "2   7803.0  1900.0  2.0  20.0  \n",
       "3   6794.0  1913.0  2.0  17.0  \n",
       "4   4615.0  1900.0  2.0  15.0  "
      ]
     },
     "execution_count": 17,
     "metadata": {},
     "output_type": "execute_result"
    }
   ],
   "source": [
    "df.head()"
   ]
  },
  {
   "cell_type": "code",
   "execution_count": 18,
   "metadata": {
    "collapsed": false
   },
   "outputs": [],
   "source": [
    "df['target']=y"
   ]
  },
  {
   "cell_type": "code",
   "execution_count": 19,
   "metadata": {
    "collapsed": false
   },
   "outputs": [],
   "source": [
    "df=df.dropna()"
   ]
  },
  {
   "cell_type": "code",
   "execution_count": 20,
   "metadata": {
    "collapsed": false
   },
   "outputs": [],
   "source": [
    "df = df.rename(columns={0:'BOROUGH',1:'NEIGHBORHOOD',2:'BCC', 3:'TCAP',4:'BLOCK',5:'LOT',6 :'BCAP', 7:'ZC',\n",
    "                        8:'RU',9:'CU', 10:'TU', 11:'LSF', \n",
    "                       12:'GSF',13:'YEAR',14:'TX',15:'BC','target':'target'})"
   ]
  },
  {
   "cell_type": "code",
   "execution_count": 21,
   "metadata": {
    "collapsed": false
   },
   "outputs": [
    {
     "data": {
      "text/html": [
       "<div>\n",
       "<style scoped>\n",
       "    .dataframe tbody tr th:only-of-type {\n",
       "        vertical-align: middle;\n",
       "    }\n",
       "\n",
       "    .dataframe tbody tr th {\n",
       "        vertical-align: top;\n",
       "    }\n",
       "\n",
       "    .dataframe thead th {\n",
       "        text-align: right;\n",
       "    }\n",
       "</style>\n",
       "<table border=\"1\" class=\"dataframe\">\n",
       "  <thead>\n",
       "    <tr style=\"text-align: right;\">\n",
       "      <th></th>\n",
       "      <th>BOROUGH</th>\n",
       "      <th>NEIGHBORHOOD</th>\n",
       "      <th>BCC</th>\n",
       "      <th>TCAP</th>\n",
       "      <th>BLOCK</th>\n",
       "      <th>LOT</th>\n",
       "      <th>BCAP</th>\n",
       "      <th>ZC</th>\n",
       "      <th>RU</th>\n",
       "      <th>CU</th>\n",
       "      <th>TU</th>\n",
       "      <th>LSF</th>\n",
       "      <th>GSF</th>\n",
       "      <th>YEAR</th>\n",
       "      <th>TX</th>\n",
       "      <th>BC</th>\n",
       "      <th>target</th>\n",
       "    </tr>\n",
       "  </thead>\n",
       "  <tbody>\n",
       "    <tr>\n",
       "      <th>0</th>\n",
       "      <td>1.0</td>\n",
       "      <td>1.0</td>\n",
       "      <td>6.0</td>\n",
       "      <td>6.0</td>\n",
       "      <td>392.0</td>\n",
       "      <td>6.0</td>\n",
       "      <td>16.0</td>\n",
       "      <td>10009.0</td>\n",
       "      <td>5.0</td>\n",
       "      <td>0.0</td>\n",
       "      <td>5.0</td>\n",
       "      <td>1633.0</td>\n",
       "      <td>6440.0</td>\n",
       "      <td>1900.0</td>\n",
       "      <td>2.0</td>\n",
       "      <td>15.0</td>\n",
       "      <td>6625000.0</td>\n",
       "    </tr>\n",
       "    <tr>\n",
       "      <th>3</th>\n",
       "      <td>1.0</td>\n",
       "      <td>1.0</td>\n",
       "      <td>6.0</td>\n",
       "      <td>7.0</td>\n",
       "      <td>402.0</td>\n",
       "      <td>21.0</td>\n",
       "      <td>18.0</td>\n",
       "      <td>10009.0</td>\n",
       "      <td>10.0</td>\n",
       "      <td>0.0</td>\n",
       "      <td>10.0</td>\n",
       "      <td>2272.0</td>\n",
       "      <td>6794.0</td>\n",
       "      <td>1913.0</td>\n",
       "      <td>2.0</td>\n",
       "      <td>17.0</td>\n",
       "      <td>3936272.0</td>\n",
       "    </tr>\n",
       "    <tr>\n",
       "      <th>4</th>\n",
       "      <td>1.0</td>\n",
       "      <td>1.0</td>\n",
       "      <td>6.0</td>\n",
       "      <td>6.0</td>\n",
       "      <td>404.0</td>\n",
       "      <td>55.0</td>\n",
       "      <td>16.0</td>\n",
       "      <td>10009.0</td>\n",
       "      <td>6.0</td>\n",
       "      <td>0.0</td>\n",
       "      <td>6.0</td>\n",
       "      <td>2369.0</td>\n",
       "      <td>4615.0</td>\n",
       "      <td>1900.0</td>\n",
       "      <td>2.0</td>\n",
       "      <td>15.0</td>\n",
       "      <td>8000000.0</td>\n",
       "    </tr>\n",
       "    <tr>\n",
       "      <th>6</th>\n",
       "      <td>1.0</td>\n",
       "      <td>1.0</td>\n",
       "      <td>6.0</td>\n",
       "      <td>7.0</td>\n",
       "      <td>406.0</td>\n",
       "      <td>32.0</td>\n",
       "      <td>18.0</td>\n",
       "      <td>10009.0</td>\n",
       "      <td>8.0</td>\n",
       "      <td>0.0</td>\n",
       "      <td>8.0</td>\n",
       "      <td>1750.0</td>\n",
       "      <td>4226.0</td>\n",
       "      <td>1920.0</td>\n",
       "      <td>2.0</td>\n",
       "      <td>17.0</td>\n",
       "      <td>3192840.0</td>\n",
       "    </tr>\n",
       "    <tr>\n",
       "      <th>9</th>\n",
       "      <td>1.0</td>\n",
       "      <td>1.0</td>\n",
       "      <td>7.0</td>\n",
       "      <td>5.0</td>\n",
       "      <td>387.0</td>\n",
       "      <td>153.0</td>\n",
       "      <td>34.0</td>\n",
       "      <td>10009.0</td>\n",
       "      <td>24.0</td>\n",
       "      <td>0.0</td>\n",
       "      <td>24.0</td>\n",
       "      <td>4489.0</td>\n",
       "      <td>18523.0</td>\n",
       "      <td>1920.0</td>\n",
       "      <td>2.0</td>\n",
       "      <td>33.0</td>\n",
       "      <td>16232000.0</td>\n",
       "    </tr>\n",
       "  </tbody>\n",
       "</table>\n",
       "</div>"
      ],
      "text/plain": [
       "   BOROUGH  NEIGHBORHOOD  BCC  TCAP  BLOCK    LOT  BCAP       ZC    RU   CU  \\\n",
       "0      1.0           1.0  6.0   6.0  392.0    6.0  16.0  10009.0   5.0  0.0   \n",
       "3      1.0           1.0  6.0   7.0  402.0   21.0  18.0  10009.0  10.0  0.0   \n",
       "4      1.0           1.0  6.0   6.0  404.0   55.0  16.0  10009.0   6.0  0.0   \n",
       "6      1.0           1.0  6.0   7.0  406.0   32.0  18.0  10009.0   8.0  0.0   \n",
       "9      1.0           1.0  7.0   5.0  387.0  153.0  34.0  10009.0  24.0  0.0   \n",
       "\n",
       "     TU     LSF      GSF    YEAR   TX    BC      target  \n",
       "0   5.0  1633.0   6440.0  1900.0  2.0  15.0   6625000.0  \n",
       "3  10.0  2272.0   6794.0  1913.0  2.0  17.0   3936272.0  \n",
       "4   6.0  2369.0   4615.0  1900.0  2.0  15.0   8000000.0  \n",
       "6   8.0  1750.0   4226.0  1920.0  2.0  17.0   3192840.0  \n",
       "9  24.0  4489.0  18523.0  1920.0  2.0  33.0  16232000.0  "
      ]
     },
     "execution_count": 21,
     "metadata": {},
     "output_type": "execute_result"
    }
   ],
   "source": [
    "df.head()"
   ]
  },
  {
   "cell_type": "markdown",
   "metadata": {},
   "source": [
    "# DATA EXPLORATION"
   ]
  },
  {
   "cell_type": "code",
   "execution_count": 22,
   "metadata": {
    "collapsed": false
   },
   "outputs": [
    {
     "data": {
      "text/html": [
       "<div>\n",
       "<style scoped>\n",
       "    .dataframe tbody tr th:only-of-type {\n",
       "        vertical-align: middle;\n",
       "    }\n",
       "\n",
       "    .dataframe tbody tr th {\n",
       "        vertical-align: top;\n",
       "    }\n",
       "\n",
       "    .dataframe thead th {\n",
       "        text-align: right;\n",
       "    }\n",
       "</style>\n",
       "<table border=\"1\" class=\"dataframe\">\n",
       "  <thead>\n",
       "    <tr style=\"text-align: right;\">\n",
       "      <th></th>\n",
       "      <th>BOROUGH</th>\n",
       "      <th>NEIGHBORHOOD</th>\n",
       "      <th>BCC</th>\n",
       "      <th>TCAP</th>\n",
       "      <th>BLOCK</th>\n",
       "      <th>LOT</th>\n",
       "      <th>BCAP</th>\n",
       "      <th>ZC</th>\n",
       "      <th>RU</th>\n",
       "      <th>CU</th>\n",
       "      <th>TU</th>\n",
       "      <th>LSF</th>\n",
       "      <th>GSF</th>\n",
       "      <th>YEAR</th>\n",
       "      <th>TX</th>\n",
       "      <th>BC</th>\n",
       "      <th>target</th>\n",
       "    </tr>\n",
       "  </thead>\n",
       "  <tbody>\n",
       "    <tr>\n",
       "      <th>count</th>\n",
       "      <td>69987.000000</td>\n",
       "      <td>69987.000000</td>\n",
       "      <td>69987.000000</td>\n",
       "      <td>69987.000000</td>\n",
       "      <td>69987.000000</td>\n",
       "      <td>69987.000000</td>\n",
       "      <td>69987.000000</td>\n",
       "      <td>69987.000000</td>\n",
       "      <td>69987.000000</td>\n",
       "      <td>69987.000000</td>\n",
       "      <td>69987.000000</td>\n",
       "      <td>6.998700e+04</td>\n",
       "      <td>6.998700e+04</td>\n",
       "      <td>69987.000000</td>\n",
       "      <td>69987.000000</td>\n",
       "      <td>69987.000000</td>\n",
       "      <td>6.998700e+04</td>\n",
       "    </tr>\n",
       "    <tr>\n",
       "      <th>mean</th>\n",
       "      <td>2.921928</td>\n",
       "      <td>125.886879</td>\n",
       "      <td>7.190678</td>\n",
       "      <td>3.505365</td>\n",
       "      <td>4196.072528</td>\n",
       "      <td>373.828397</td>\n",
       "      <td>46.671239</td>\n",
       "      <td>10741.455185</td>\n",
       "      <td>1.899553</td>\n",
       "      <td>0.172489</td>\n",
       "      <td>2.092203</td>\n",
       "      <td>3.723936e+03</td>\n",
       "      <td>3.788460e+03</td>\n",
       "      <td>1799.348236</td>\n",
       "      <td>1.641976</td>\n",
       "      <td>46.858488</td>\n",
       "      <td>1.276456e+06</td>\n",
       "    </tr>\n",
       "    <tr>\n",
       "      <th>std</th>\n",
       "      <td>1.235688</td>\n",
       "      <td>75.689775</td>\n",
       "      <td>8.241204</td>\n",
       "      <td>2.674934</td>\n",
       "      <td>3429.196524</td>\n",
       "      <td>656.096528</td>\n",
       "      <td>50.319833</td>\n",
       "      <td>1263.234938</td>\n",
       "      <td>14.549545</td>\n",
       "      <td>9.123717</td>\n",
       "      <td>17.276100</td>\n",
       "      <td>3.369980e+04</td>\n",
       "      <td>2.447372e+04</td>\n",
       "      <td>520.884552</td>\n",
       "      <td>0.771162</td>\n",
       "      <td>50.652793</td>\n",
       "      <td>1.140526e+07</td>\n",
       "    </tr>\n",
       "    <tr>\n",
       "      <th>min</th>\n",
       "      <td>1.000000</td>\n",
       "      <td>0.000000</td>\n",
       "      <td>0.000000</td>\n",
       "      <td>0.000000</td>\n",
       "      <td>1.000000</td>\n",
       "      <td>1.000000</td>\n",
       "      <td>0.000000</td>\n",
       "      <td>0.000000</td>\n",
       "      <td>0.000000</td>\n",
       "      <td>0.000000</td>\n",
       "      <td>0.000000</td>\n",
       "      <td>0.000000e+00</td>\n",
       "      <td>0.000000e+00</td>\n",
       "      <td>0.000000</td>\n",
       "      <td>1.000000</td>\n",
       "      <td>0.000000</td>\n",
       "      <td>0.000000e+00</td>\n",
       "    </tr>\n",
       "    <tr>\n",
       "      <th>25%</th>\n",
       "      <td>2.000000</td>\n",
       "      <td>63.000000</td>\n",
       "      <td>1.000000</td>\n",
       "      <td>1.000000</td>\n",
       "      <td>1348.000000</td>\n",
       "      <td>22.000000</td>\n",
       "      <td>10.000000</td>\n",
       "      <td>10306.000000</td>\n",
       "      <td>0.000000</td>\n",
       "      <td>0.000000</td>\n",
       "      <td>0.000000</td>\n",
       "      <td>1.900000e+03</td>\n",
       "      <td>1.268000e+03</td>\n",
       "      <td>1920.000000</td>\n",
       "      <td>1.000000</td>\n",
       "      <td>9.000000</td>\n",
       "      <td>2.250000e+05</td>\n",
       "    </tr>\n",
       "    <tr>\n",
       "      <th>50%</th>\n",
       "      <td>3.000000</td>\n",
       "      <td>122.000000</td>\n",
       "      <td>6.000000</td>\n",
       "      <td>5.000000</td>\n",
       "      <td>3378.000000</td>\n",
       "      <td>50.000000</td>\n",
       "      <td>20.000000</td>\n",
       "      <td>11209.000000</td>\n",
       "      <td>1.000000</td>\n",
       "      <td>0.000000</td>\n",
       "      <td>1.000000</td>\n",
       "      <td>2.946000e+03</td>\n",
       "      <td>2.400000e+03</td>\n",
       "      <td>1937.000000</td>\n",
       "      <td>2.000000</td>\n",
       "      <td>19.000000</td>\n",
       "      <td>5.300000e+05</td>\n",
       "    </tr>\n",
       "    <tr>\n",
       "      <th>75%</th>\n",
       "      <td>4.000000</td>\n",
       "      <td>195.000000</td>\n",
       "      <td>13.000000</td>\n",
       "      <td>5.000000</td>\n",
       "      <td>6186.000000</td>\n",
       "      <td>709.000000</td>\n",
       "      <td>119.000000</td>\n",
       "      <td>11249.000000</td>\n",
       "      <td>2.000000</td>\n",
       "      <td>0.000000</td>\n",
       "      <td>2.000000</td>\n",
       "      <td>3.941676e+03</td>\n",
       "      <td>4.045707e+03</td>\n",
       "      <td>1965.000000</td>\n",
       "      <td>2.000000</td>\n",
       "      <td>119.000000</td>\n",
       "      <td>9.500000e+05</td>\n",
       "    </tr>\n",
       "    <tr>\n",
       "      <th>max</th>\n",
       "      <td>5.000000</td>\n",
       "      <td>253.000000</td>\n",
       "      <td>46.000000</td>\n",
       "      <td>10.000000</td>\n",
       "      <td>16319.000000</td>\n",
       "      <td>9106.000000</td>\n",
       "      <td>166.000000</td>\n",
       "      <td>11694.000000</td>\n",
       "      <td>1844.000000</td>\n",
       "      <td>2261.000000</td>\n",
       "      <td>2261.000000</td>\n",
       "      <td>4.252327e+06</td>\n",
       "      <td>3.750565e+06</td>\n",
       "      <td>2017.000000</td>\n",
       "      <td>4.000000</td>\n",
       "      <td>165.000000</td>\n",
       "      <td>2.210000e+09</td>\n",
       "    </tr>\n",
       "  </tbody>\n",
       "</table>\n",
       "</div>"
      ],
      "text/plain": [
       "            BOROUGH  NEIGHBORHOOD           BCC          TCAP         BLOCK  \\\n",
       "count  69987.000000  69987.000000  69987.000000  69987.000000  69987.000000   \n",
       "mean       2.921928    125.886879      7.190678      3.505365   4196.072528   \n",
       "std        1.235688     75.689775      8.241204      2.674934   3429.196524   \n",
       "min        1.000000      0.000000      0.000000      0.000000      1.000000   \n",
       "25%        2.000000     63.000000      1.000000      1.000000   1348.000000   \n",
       "50%        3.000000    122.000000      6.000000      5.000000   3378.000000   \n",
       "75%        4.000000    195.000000     13.000000      5.000000   6186.000000   \n",
       "max        5.000000    253.000000     46.000000     10.000000  16319.000000   \n",
       "\n",
       "                LOT          BCAP            ZC            RU            CU  \\\n",
       "count  69987.000000  69987.000000  69987.000000  69987.000000  69987.000000   \n",
       "mean     373.828397     46.671239  10741.455185      1.899553      0.172489   \n",
       "std      656.096528     50.319833   1263.234938     14.549545      9.123717   \n",
       "min        1.000000      0.000000      0.000000      0.000000      0.000000   \n",
       "25%       22.000000     10.000000  10306.000000      0.000000      0.000000   \n",
       "50%       50.000000     20.000000  11209.000000      1.000000      0.000000   \n",
       "75%      709.000000    119.000000  11249.000000      2.000000      0.000000   \n",
       "max     9106.000000    166.000000  11694.000000   1844.000000   2261.000000   \n",
       "\n",
       "                 TU           LSF           GSF          YEAR            TX  \\\n",
       "count  69987.000000  6.998700e+04  6.998700e+04  69987.000000  69987.000000   \n",
       "mean       2.092203  3.723936e+03  3.788460e+03   1799.348236      1.641976   \n",
       "std       17.276100  3.369980e+04  2.447372e+04    520.884552      0.771162   \n",
       "min        0.000000  0.000000e+00  0.000000e+00      0.000000      1.000000   \n",
       "25%        0.000000  1.900000e+03  1.268000e+03   1920.000000      1.000000   \n",
       "50%        1.000000  2.946000e+03  2.400000e+03   1937.000000      2.000000   \n",
       "75%        2.000000  3.941676e+03  4.045707e+03   1965.000000      2.000000   \n",
       "max     2261.000000  4.252327e+06  3.750565e+06   2017.000000      4.000000   \n",
       "\n",
       "                 BC        target  \n",
       "count  69987.000000  6.998700e+04  \n",
       "mean      46.858488  1.276456e+06  \n",
       "std       50.652793  1.140526e+07  \n",
       "min        0.000000  0.000000e+00  \n",
       "25%        9.000000  2.250000e+05  \n",
       "50%       19.000000  5.300000e+05  \n",
       "75%      119.000000  9.500000e+05  \n",
       "max      165.000000  2.210000e+09  "
      ]
     },
     "execution_count": 22,
     "metadata": {},
     "output_type": "execute_result"
    }
   ],
   "source": [
    "df.describe()#Generates descriptive statistics"
   ]
  },
  {
   "cell_type": "code",
   "execution_count": 23,
   "metadata": {
    "collapsed": false
   },
   "outputs": [
    {
     "name": "stderr",
     "output_type": "stream",
     "text": [
      "C:\\Users\\Ashish2448311\\Anaconda3\\envs\\tensorflow\\lib\\site-packages\\matplotlib\\axes\\_axes.py:6448: UserWarning: The 'normed' kwarg is deprecated, and has been replaced by the 'density' kwarg.\n",
      "  warnings.warn(\"The 'normed' kwarg is deprecated, and has been \"\n",
      "No handles with labels found to put in legend.\n"
     ]
    },
    {
     "data": {
      "text/plain": [
       "<function matplotlib.pyplot.show>"
      ]
     },
     "execution_count": 23,
     "metadata": {},
     "output_type": "execute_result"
    },
    {
     "data": {
      "image/png": "[encoded data removed]",
      "text/plain": [
       "<Figure size 720x360 with 1 Axes>"
      ]
     },
     "metadata": {},
     "output_type": "display_data"
    }
   ],
   "source": [
    "import matplotlib.pyplot as plt\n",
    "import seaborn as sns\n",
    "%matplotlib inline\n",
    "plt.figure(figsize=(10,5))\n",
    "plt.title(\"distribution of salary \")\n",
    "sns.distplot(df['target'])\n",
    "plt.legend()\n",
    "plt.show#"
   ]
  },
  {
   "cell_type": "code",
   "execution_count": null,
   "metadata": {
    "collapsed": true
   },
   "outputs": [],
   "source": [
    "# due to presence of high number of outliers the distribution has high standard deviation"
   ]
  },
  {
   "cell_type": "markdown",
   "metadata": {},
   "source": [
    "# dropping values whose target are 0 "
   ]
  },
  {
   "cell_type": "code",
   "execution_count": 24,
   "metadata": {
    "collapsed": false
   },
   "outputs": [],
   "source": [
    "df_0 = df[df['target']==0]"
   ]
  },
  {
   "cell_type": "code",
   "execution_count": 25,
   "metadata": {
    "collapsed": false
   },
   "outputs": [
    {
     "data": {
      "text/plain": [
       "(10228, 17)"
      ]
     },
     "execution_count": 25,
     "metadata": {},
     "output_type": "execute_result"
    }
   ],
   "source": [
    "df_0.shape"
   ]
  },
  {
   "cell_type": "code",
   "execution_count": 26,
   "metadata": {
    "collapsed": false
   },
   "outputs": [],
   "source": [
    "a=df_0.index.get_values()"
   ]
  },
  {
   "cell_type": "code",
   "execution_count": 27,
   "metadata": {
    "collapsed": true
   },
   "outputs": [],
   "source": [
    "df=df.drop(a)"
   ]
  },
  {
   "cell_type": "code",
   "execution_count": 28,
   "metadata": {
    "collapsed": false
   },
   "outputs": [
    {
     "data": {
      "text/plain": [
       "(59759, 17)"
      ]
     },
     "execution_count": 28,
     "metadata": {},
     "output_type": "execute_result"
    }
   ],
   "source": [
    "df.shape"
   ]
  },
  {
   "cell_type": "code",
   "execution_count": null,
   "metadata": {
    "collapsed": true
   },
   "outputs": [],
   "source": []
  },
  {
   "cell_type": "markdown",
   "metadata": {},
   "source": [
    "# dropping values whose sale price are less then 0.15e+07 and greater then 5000"
   ]
  },
  {
   "cell_type": "code",
   "execution_count": 29,
   "metadata": {
    "collapsed": false
   },
   "outputs": [],
   "source": [
    "df1 = df[(df['target'] <0.15e+07) & (df['target'] >5000)]"
   ]
  },
  {
   "cell_type": "code",
   "execution_count": 30,
   "metadata": {
    "collapsed": false
   },
   "outputs": [
    {
     "data": {
      "text/plain": [
       "(48742, 17)"
      ]
     },
     "execution_count": 30,
     "metadata": {},
     "output_type": "execute_result"
    }
   ],
   "source": [
    "df1.shape"
   ]
  },
  {
   "cell_type": "code",
   "execution_count": 31,
   "metadata": {
    "collapsed": false
   },
   "outputs": [
    {
     "name": "stderr",
     "output_type": "stream",
     "text": [
      "C:\\Users\\Ashish2448311\\Anaconda3\\envs\\tensorflow\\lib\\site-packages\\matplotlib\\axes\\_axes.py:6448: UserWarning: The 'normed' kwarg is deprecated, and has been replaced by the 'density' kwarg.\n",
      "  warnings.warn(\"The 'normed' kwarg is deprecated, and has been \"\n",
      "No handles with labels found to put in legend.\n"
     ]
    },
    {
     "data": {
      "text/plain": [
       "<function matplotlib.pyplot.show>"
      ]
     },
     "execution_count": 31,
     "metadata": {},
     "output_type": "execute_result"
    },
    {
     "data": {
      "image/png": "[encoded data removed]",
      "text/plain": [
       "<Figure size 720x360 with 1 Axes>"
      ]
     },
     "metadata": {},
     "output_type": "display_data"
    }
   ],
   "source": [
    "plt.figure(figsize=(10,5))\n",
    "plt.title(\"distribution of salary \")\n",
    "sns.distplot(df1['target'])\n",
    "plt.legend()\n",
    "plt.show#"
   ]
  },
  {
   "cell_type": "code",
   "execution_count": null,
   "metadata": {
    "collapsed": true
   },
   "outputs": [],
   "source": [
    "#now the distribution looks fine"
   ]
  },
  {
   "cell_type": "code",
   "execution_count": 32,
   "metadata": {
    "collapsed": true
   },
   "outputs": [],
   "source": [
    "Y = df1.target.values"
   ]
  },
  {
   "cell_type": "code",
   "execution_count": 33,
   "metadata": {
    "collapsed": true
   },
   "outputs": [],
   "source": [
    "X = df1.drop(['target'],axis=1)"
   ]
  },
  {
   "cell_type": "markdown",
   "metadata": {},
   "source": [
    "# scaling the features"
   ]
  },
  {
   "cell_type": "code",
   "execution_count": 34,
   "metadata": {
    "collapsed": false
   },
   "outputs": [],
   "source": [
    "from sklearn.preprocessing import MinMaxScaler\n",
    "scaler = MinMaxScaler()\n",
    "X[['BOROUGH', 'NEIGHBORHOOD', 'BCC', 'TCAP', 'BLOCK', 'LOT', 'BCAP', 'ZC',\n",
    "       'RU', 'CU', 'TU', 'LSF', 'GSF', 'YEAR', 'TX', 'BC']]=scaler.fit_transform(X[['BOROUGH', 'NEIGHBORHOOD', 'BCC', 'TCAP', 'BLOCK', 'LOT', 'BCAP', 'ZC',\n",
    "       'RU', 'CU', 'TU', 'LSF', 'GSF', 'YEAR', 'TX', 'BC']])"
   ]
  },
  {
   "cell_type": "code",
   "execution_count": 35,
   "metadata": {
    "collapsed": false
   },
   "outputs": [
    {
     "data": {
      "text/html": [
       "<div>\n",
       "<style scoped>\n",
       "    .dataframe tbody tr th:only-of-type {\n",
       "        vertical-align: middle;\n",
       "    }\n",
       "\n",
       "    .dataframe tbody tr th {\n",
       "        vertical-align: top;\n",
       "    }\n",
       "\n",
       "    .dataframe thead th {\n",
       "        text-align: right;\n",
       "    }\n",
       "</style>\n",
       "<table border=\"1\" class=\"dataframe\">\n",
       "  <thead>\n",
       "    <tr style=\"text-align: right;\">\n",
       "      <th></th>\n",
       "      <th>BOROUGH</th>\n",
       "      <th>NEIGHBORHOOD</th>\n",
       "      <th>BCC</th>\n",
       "      <th>TCAP</th>\n",
       "      <th>BLOCK</th>\n",
       "      <th>LOT</th>\n",
       "      <th>BCAP</th>\n",
       "      <th>ZC</th>\n",
       "      <th>RU</th>\n",
       "      <th>CU</th>\n",
       "      <th>TU</th>\n",
       "      <th>LSF</th>\n",
       "      <th>GSF</th>\n",
       "      <th>YEAR</th>\n",
       "      <th>TX</th>\n",
       "      <th>BC</th>\n",
       "    </tr>\n",
       "  </thead>\n",
       "  <tbody>\n",
       "    <tr>\n",
       "      <th>13</th>\n",
       "      <td>0.0</td>\n",
       "      <td>0.003953</td>\n",
       "      <td>0.173913</td>\n",
       "      <td>0.5</td>\n",
       "      <td>0.0228</td>\n",
       "      <td>0.004322</td>\n",
       "      <td>0.120482</td>\n",
       "      <td>0.855909</td>\n",
       "      <td>0.0</td>\n",
       "      <td>0.0</td>\n",
       "      <td>0.0</td>\n",
       "      <td>0.000932</td>\n",
       "      <td>0.001079</td>\n",
       "      <td>0.951909</td>\n",
       "      <td>0.333333</td>\n",
       "      <td>0.115152</td>\n",
       "    </tr>\n",
       "    <tr>\n",
       "      <th>15</th>\n",
       "      <td>0.0</td>\n",
       "      <td>0.003953</td>\n",
       "      <td>0.173913</td>\n",
       "      <td>0.5</td>\n",
       "      <td>0.0228</td>\n",
       "      <td>0.004322</td>\n",
       "      <td>0.120482</td>\n",
       "      <td>0.855909</td>\n",
       "      <td>0.0</td>\n",
       "      <td>0.0</td>\n",
       "      <td>0.0</td>\n",
       "      <td>0.000932</td>\n",
       "      <td>0.001079</td>\n",
       "      <td>0.951909</td>\n",
       "      <td>0.333333</td>\n",
       "      <td>0.115152</td>\n",
       "    </tr>\n",
       "    <tr>\n",
       "      <th>16</th>\n",
       "      <td>0.0</td>\n",
       "      <td>0.003953</td>\n",
       "      <td>0.173913</td>\n",
       "      <td>0.5</td>\n",
       "      <td>0.0228</td>\n",
       "      <td>0.004322</td>\n",
       "      <td>0.120482</td>\n",
       "      <td>0.855909</td>\n",
       "      <td>0.0</td>\n",
       "      <td>0.0</td>\n",
       "      <td>0.0</td>\n",
       "      <td>0.000932</td>\n",
       "      <td>0.001079</td>\n",
       "      <td>0.951909</td>\n",
       "      <td>0.333333</td>\n",
       "      <td>0.115152</td>\n",
       "    </tr>\n",
       "    <tr>\n",
       "      <th>17</th>\n",
       "      <td>0.0</td>\n",
       "      <td>0.003953</td>\n",
       "      <td>0.173913</td>\n",
       "      <td>0.5</td>\n",
       "      <td>0.0228</td>\n",
       "      <td>0.004987</td>\n",
       "      <td>0.120482</td>\n",
       "      <td>0.855909</td>\n",
       "      <td>0.0</td>\n",
       "      <td>0.0</td>\n",
       "      <td>0.0</td>\n",
       "      <td>0.000932</td>\n",
       "      <td>0.001079</td>\n",
       "      <td>0.954388</td>\n",
       "      <td>0.333333</td>\n",
       "      <td>0.115152</td>\n",
       "    </tr>\n",
       "    <tr>\n",
       "      <th>18</th>\n",
       "      <td>0.0</td>\n",
       "      <td>0.003953</td>\n",
       "      <td>0.173913</td>\n",
       "      <td>0.5</td>\n",
       "      <td>0.0228</td>\n",
       "      <td>0.005320</td>\n",
       "      <td>0.120482</td>\n",
       "      <td>0.855909</td>\n",
       "      <td>0.0</td>\n",
       "      <td>0.0</td>\n",
       "      <td>0.0</td>\n",
       "      <td>0.000932</td>\n",
       "      <td>0.001079</td>\n",
       "      <td>0.951909</td>\n",
       "      <td>0.333333</td>\n",
       "      <td>0.115152</td>\n",
       "    </tr>\n",
       "  </tbody>\n",
       "</table>\n",
       "</div>"
      ],
      "text/plain": [
       "    BOROUGH  NEIGHBORHOOD       BCC  TCAP   BLOCK       LOT      BCAP  \\\n",
       "13      0.0      0.003953  0.173913   0.5  0.0228  0.004322  0.120482   \n",
       "15      0.0      0.003953  0.173913   0.5  0.0228  0.004322  0.120482   \n",
       "16      0.0      0.003953  0.173913   0.5  0.0228  0.004322  0.120482   \n",
       "17      0.0      0.003953  0.173913   0.5  0.0228  0.004987  0.120482   \n",
       "18      0.0      0.003953  0.173913   0.5  0.0228  0.005320  0.120482   \n",
       "\n",
       "          ZC   RU   CU   TU       LSF       GSF      YEAR        TX        BC  \n",
       "13  0.855909  0.0  0.0  0.0  0.000932  0.001079  0.951909  0.333333  0.115152  \n",
       "15  0.855909  0.0  0.0  0.0  0.000932  0.001079  0.951909  0.333333  0.115152  \n",
       "16  0.855909  0.0  0.0  0.0  0.000932  0.001079  0.951909  0.333333  0.115152  \n",
       "17  0.855909  0.0  0.0  0.0  0.000932  0.001079  0.954388  0.333333  0.115152  \n",
       "18  0.855909  0.0  0.0  0.0  0.000932  0.001079  0.951909  0.333333  0.115152  "
      ]
     },
     "execution_count": 35,
     "metadata": {},
     "output_type": "execute_result"
    }
   ],
   "source": [
    "X.head()"
   ]
  },
  {
   "cell_type": "code",
   "execution_count": null,
   "metadata": {
    "collapsed": true
   },
   "outputs": [],
   "source": []
  },
  {
   "cell_type": "markdown",
   "metadata": {},
   "source": [
    "# Feature Engineering Techniques"
   ]
  },
  {
   "cell_type": "code",
   "execution_count": 36,
   "metadata": {
    "collapsed": false
   },
   "outputs": [],
   "source": [
    "colnames = X.columns\n",
    "x = X.as_matrix()"
   ]
  },
  {
   "cell_type": "code",
   "execution_count": 37,
   "metadata": {
    "collapsed": true
   },
   "outputs": [],
   "source": [
    "ranks = {}\n",
    "# Create our function which stores the feature rankings to the ranks dictionary\n",
    "def ranking(ranks, names, order=1):\n",
    "    minmax = MinMaxScaler()\n",
    "    ranks = minmax.fit_transform(order*np.array([ranks]).T).T[0]\n",
    "    ranks = map(lambda x: round(x,2), ranks)\n",
    "    return dict(zip(names, ranks))"
   ]
  },
  {
   "cell_type": "markdown",
   "metadata": {},
   "source": [
    "# 1) Stability Selection via Randomized Lasso\n"
   ]
  },
  {
   "cell_type": "code",
   "execution_count": 46,
   "metadata": {
    "collapsed": false
   },
   "outputs": [
    {
     "name": "stderr",
     "output_type": "stream",
     "text": [
      "C:\\Users\\Ashish2448311\\Anaconda3\\envs\\tensorflow\\lib\\site-packages\\sklearn\\utils\\deprecation.py:58: DeprecationWarning: Class RandomizedLasso is deprecated; The class RandomizedLasso is deprecated in 0.19 and will be removed in 0.21.\n",
      "  warnings.warn(msg, category=DeprecationWarning)\n"
     ]
    },
    {
     "name": "stdout",
     "output_type": "stream",
     "text": [
      "finished\n"
     ]
    }
   ],
   "source": [
    "rlasso = linear_model.RandomizedLasso(alpha=0.01)\n",
    "rlasso.fit(x, Y)\n",
    "ranks[\"rlasso/Stability\"] = ranking(np.abs(rlasso.scores_), colnames)\n",
    "print('finished')"
   ]
  },
  {
   "cell_type": "markdown",
   "metadata": {},
   "source": [
    "# 2) Recursive Feature Elimination ( RFE )"
   ]
  },
  {
   "cell_type": "code",
   "execution_count": 49,
   "metadata": {
    "collapsed": false
   },
   "outputs": [
    {
     "name": "stdout",
     "output_type": "stream",
     "text": [
      "Fitting estimator with 16 features.\n",
      "Fitting estimator with 15 features.\n",
      "Fitting estimator with 14 features.\n",
      "Fitting estimator with 13 features.\n",
      "Fitting estimator with 12 features.\n",
      "Fitting estimator with 11 features.\n",
      "Fitting estimator with 10 features.\n",
      "Fitting estimator with 9 features.\n",
      "Fitting estimator with 8 features.\n",
      "Fitting estimator with 7 features.\n",
      "Fitting estimator with 6 features.\n",
      "Fitting estimator with 5 features.\n",
      "Fitting estimator with 4 features.\n",
      "Fitting estimator with 3 features.\n",
      "Fitting estimator with 2 features.\n"
     ]
    }
   ],
   "source": [
    "from sklearn.feature_selection import RFE\n",
    "from sklearn.linear_model import LinearRegression\n",
    "lr = linear_model.LinearRegression(normalize=True)\n",
    "lr.fit(x,Y)\n",
    "#stop the search when only the last feature is left\n",
    "rfe = RFE(lr, n_features_to_select=1, verbose =3 )\n",
    "rfe.fit(X,Y)\n",
    "ranks[\"RFE\"] = ranking(list(map(float, rfe.ranking_)), colnames, order=-1)"
   ]
  },
  {
   "cell_type": "markdown",
   "metadata": {},
   "source": [
    "# 3) Linear Model Feature Ranking"
   ]
  },
  {
   "cell_type": "code",
   "execution_count": 52,
   "metadata": {
    "collapsed": false
   },
   "outputs": [
    {
     "name": "stderr",
     "output_type": "stream",
     "text": [
      "C:\\Users\\Ashish2448311\\Anaconda3\\envs\\tensorflow\\lib\\site-packages\\sklearn\\linear_model\\coordinate_descent.py:491: ConvergenceWarning: Objective did not converge. You might want to increase the number of iterations. Fitting data with very small alpha may cause precision problems.\n",
      "  ConvergenceWarning)\n"
     ]
    }
   ],
   "source": [
    "lr = LinearRegression(normalize=True)\n",
    "lr.fit(x,Y)\n",
    "ranks[\"LinReg\"] = ranking(np.abs(lr.coef_), colnames)\n",
    "\n",
    "# Using Ridge \n",
    "ridge = Ridge(alpha = 7)\n",
    "ridge.fit(x,Y)\n",
    "ranks['Ridge'] = ranking(np.abs(ridge.coef_), colnames)\n",
    "\n",
    "# Using Lasso\n",
    "lasso = Lasso(alpha=.05)\n",
    "lasso.fit(x, Y)\n",
    "ranks[\"Lasso\"] = ranking(np.abs(lasso.coef_), colnames)"
   ]
  },
  {
   "cell_type": "markdown",
   "metadata": {},
   "source": [
    "# 4) Random Forest feature ranking"
   ]
  },
  {
   "cell_type": "code",
   "execution_count": 55,
   "metadata": {
    "collapsed": false
   },
   "outputs": [
    {
     "name": "stdout",
     "output_type": "stream",
     "text": [
      "building tree 2 of 100building tree 3 of 100building tree 1 of 100building tree 4 of 100\n",
      "\n",
      "\n"
     ]
    },
    {
     "name": "stderr",
     "output_type": "stream",
     "text": [
      "[Parallel(n_jobs=-1)]: Done  24 tasks      | elapsed:    3.1s\n"
     ]
    },
    {
     "name": "stdout",
     "output_type": "stream",
     "text": [
      "building tree 5 of 100\n",
      "building tree 8 of 100building tree 6 of 100\n",
      "building tree 7 of 100\n",
      "\n",
      "building tree 9 of 100\n",
      "building tree 11 of 100building tree 10 of 100\n",
      "building tree 12 of 100\n",
      "\n",
      "building tree 13 of 100\n",
      "building tree 16 of 100building tree 14 of 100\n",
      "building tree 15 of 100\n",
      "\n",
      "building tree 17 of 100\n",
      "building tree 20 of 100building tree 18 of 100\n",
      "building tree 19 of 100\n",
      "\n",
      "building tree 21 of 100\n",
      "building tree 24 of 100building tree 22 of 100\n",
      "building tree 23 of 100\n",
      "\n",
      "building tree 25 of 100\n",
      "building tree 28 of 100\n"
     ]
    },
    {
     "name": "stderr",
     "output_type": "stream",
     "text": [
      "[Parallel(n_jobs=-1)]: Done 100 out of 100 | elapsed:   11.6s finished\n"
     ]
    },
    {
     "name": "stdout",
     "output_type": "stream",
     "text": [
      "building tree 27 of 100\n",
      "building tree 26 of 100building tree 29 of 100\n",
      "building tree 30 of 100\n",
      "\n",
      "building tree 32 of 100\n",
      "building tree 31 of 100building tree 33 of 100\n",
      "building tree 34 of 100\n",
      "\n",
      "building tree 36 of 100\n",
      "building tree 35 of 100building tree 37 of 100\n",
      "building tree 38 of 100\n"
     ]
    }
   ],
   "source": [
    "rf = RandomForestRegressor(n_jobs=-1, n_estimators=100, verbose=3)\n",
    "rf.fit(x,Y)\n",
    "ranks[\"RF\"] = ranking(rf.feature_importances_, colnames);"
   ]
  },
  {
   "cell_type": "markdown",
   "metadata": {},
   "source": [
    "# Creating the Feature Ranking Matrix¶\n",
    "\n"
   ]
  },
  {
   "cell_type": "code",
   "execution_count": 56,
   "metadata": {
    "collapsed": false
   },
   "outputs": [
    {
     "name": "stdout",
     "output_type": "stream",
     "text": [
      "\n",
      "building tree 41 of 100\n",
      "building tree 39 of 100building tree 40 of 100\n",
      "building tree 42 of 100\n",
      "\n",
      "building tree 46 of 100\n",
      "building tree 43 of 100building tree 44 of 100\n",
      "building tree 45 of 100\n",
      "\n",
      "building tree 50 of 100\n",
      "building tree 47 of 100building tree 48 of 100\n",
      "building tree 49 of 100\n",
      "\n",
      "building tree 54 of 100\n",
      "building tree 51 of 100building tree 52 of 100\n",
      "building tree 53 of 100\n",
      "\n",
      "building tree 58 of 100\n",
      "building tree 55 of 100building tree 56 of 100\n",
      "building tree 57 of 100\n",
      "\n",
      "building tree 61 of 100\n",
      "building tree 59 of 100building tree 60 of 100\n",
      "building tree 62 of 100\n",
      "\n",
      "building tree 65 of 100\n",
      "building tree 63 of 100building tree 64 of 100\n",
      "building tree 66 of 100\n",
      "\n",
      "building tree 69 of 100\n",
      "building tree 67 of 100building tree 68 of 100\n",
      "building tree 70 of 100\n",
      "\n",
      "building tree 73 of 100\n",
      "building tree 71 of 100building tree 72 of 100\n",
      "building tree 74 of 100\n",
      "\n",
      "building tree 76 of 100\n",
      "building tree 75 of 100building tree 77 of 100\n",
      "building tree 78 of 100\n",
      "\n",
      "building tree 80 of 100\n",
      "building tree 79 of 100building tree 81 of 100\n",
      "building tree 82 of 100\n",
      "\n",
      "building tree 84 of 100\n",
      "building tree 83 of 100building tree 85 of 100\n",
      "building tree 86 of 100\n",
      "\n",
      "building tree 88 of 100\n",
      "building tree 87 of 100building tree 89 of 100\n",
      "building tree 91 of 100\n",
      "\n",
      "building tree 93 of 100\n",
      "building tree 90 of 100building tree 92 of 100\n",
      "building tree 94 of 100\n",
      "\n",
      "building tree 97 of 100\n",
      "building tree 95 of 100building tree 96 of 100\n",
      "building tree 98 of 100\n",
      "\n",
      "building tree 100 of 100\n",
      "building tree 99 of 100\n",
      "\n",
      "\tLasso\tLinReg\tRF\tRFE\tRidge\trlasso/Stability\tMean\n",
      "BOROUGH\t0.01\t0.0\t0.27\t0.53\t0.5\t1.0\t0.38\n",
      "NEIGHBORHOOD\t0.0\t0.0\t0.17\t0.13\t0.11\t1.0\t0.24\n",
      "BCC\t0.02\t0.0\t0.11\t0.07\t0.56\t0.0\t0.13\n",
      "TCAP\t0.01\t0.0\t0.03\t0.47\t0.49\t1.0\t0.33\n",
      "BLOCK\t0.02\t0.0\t1.0\t0.67\t0.67\t1.0\t0.56\n",
      "LOT\t0.0\t0.0\t0.52\t0.0\t0.09\t0.0\t0.1\n",
      "BCAP\t0.01\t0.0\t0.07\t0.33\t0.43\t1.0\t0.31\n",
      "ZC\t0.02\t0.0\t0.52\t0.6\t0.67\t1.0\t0.47\n",
      "RU\t1.0\t0.84\t0.22\t0.87\t0.26\t1.0\t0.7\n",
      "CU\t0.55\t1.0\t0.02\t1.0\t0.0\t1.0\t0.6\n",
      "TU\t0.54\t1.0\t0.3\t0.93\t0.21\t1.0\t0.66\n",
      "LSF\t0.42\t0.02\t0.29\t0.73\t0.21\t1.0\t0.44\n",
      "GSF\t0.97\t0.04\t0.38\t0.8\t0.22\t1.0\t0.57\n",
      "YEAR\t0.0\t0.0\t0.32\t0.2\t0.15\t1.0\t0.28\n",
      "TX\t0.0\t0.0\t0.0\t0.27\t0.1\t1.0\t0.23\n",
      "BC\t0.02\t0.0\t0.06\t0.4\t1.0\t1.0\t0.41\n"
     ]
    }
   ],
   "source": [
    "r = {}\n",
    "for name in colnames:\n",
    "    r[name] = round(np.mean([ranks[method][name] \n",
    "                             for method in ranks.keys()]), 2)\n",
    " \n",
    "methods = sorted(ranks.keys())\n",
    "ranks[\"Mean\"] = r\n",
    "methods.append(\"Mean\")\n",
    " \n",
    "print(\"\\t%s\" % \"\\t\".join(methods))\n",
    "for name in colnames:\n",
    "    print(\"%s\\t%s\" % (name, \"\\t\".join(map(str, \n",
    "                         [ranks[method][name] for method in methods]))))"
   ]
  },
  {
   "cell_type": "code",
   "execution_count": 57,
   "metadata": {
    "collapsed": true
   },
   "outputs": [],
   "source": [
    "# Put the mean scores into a Pandas dataframe\n",
    "meanplot = pd.DataFrame(list(r.items()), columns= ['Feature','Mean Ranking'])\n",
    "\n",
    "# Sort the dataframe\n",
    "meanplot = meanplot.sort_values('Mean Ranking', ascending=False)"
   ]
  },
  {
   "cell_type": "markdown",
   "metadata": {},
   "source": [
    "# Visualizing the mean ranking"
   ]
  },
  {
   "cell_type": "code",
   "execution_count": 58,
   "metadata": {
    "collapsed": false
   },
   "outputs": [
    {
     "name": "stderr",
     "output_type": "stream",
     "text": [
      "C:\\Users\\Ashish2448311\\Anaconda3\\envs\\tensorflow\\lib\\site-packages\\seaborn\\categorical.py:1428: FutureWarning: remove_na is deprecated and is a private function. Do not use.\n",
      "  stat_data = remove_na(group_data)\n"
     ]
    },
    {
     "data": {
      "text/plain": [
       "<seaborn.axisgrid.FacetGrid at 0x19a6cff5828>"
      ]
     },
     "execution_count": 58,
     "metadata": {},
     "output_type": "execute_result"
    },
    {
     "data": {
      "image/png": "[encoded data removed]",
      "text/plain": [
       "<Figure size 1080x1080 with 1 Axes>"
      ]
     },
     "metadata": {},
     "output_type": "display_data"
    }
   ],
   "source": [
    "# Let's plot the ranking of the features\n",
    "sns.factorplot(x=\"Mean Ranking\", y=\"Feature\", data = meanplot, kind=\"bar\", \n",
    "               size=15, aspect=1, palette='coolwarm')"
   ]
  },
  {
   "cell_type": "code",
   "execution_count": null,
   "metadata": {
    "collapsed": true
   },
   "outputs": [],
   "source": []
  },
  {
   "cell_type": "code",
   "execution_count": 59,
   "metadata": {
    "collapsed": true
   },
   "outputs": [],
   "source": [
    "y=df1['target']\n",
    "X = df1.drop(['target'],axis=1)"
   ]
  },
  {
   "cell_type": "code",
   "execution_count": 60,
   "metadata": {
    "collapsed": false
   },
   "outputs": [
    {
     "data": {
      "text/plain": [
       "(48742, 16)"
      ]
     },
     "execution_count": 60,
     "metadata": {},
     "output_type": "execute_result"
    }
   ],
   "source": [
    "X.shape"
   ]
  },
  {
   "cell_type": "markdown",
   "metadata": {},
   "source": [
    "# PCA to reduce the features"
   ]
  },
  {
   "cell_type": "code",
   "execution_count": 61,
   "metadata": {
    "collapsed": false
   },
   "outputs": [
    {
     "name": "stdout",
     "output_type": "stream",
     "text": [
      "VARIANCE REATINED: 0.99\n",
      "SHAPE AFTER PCA: (48742, 12)\n"
     ]
    }
   ],
   "source": [
    "from sklearn.decomposition import PCA\n",
    "from sklearn.preprocessing import StandardScaler\n",
    "scaler = StandardScaler()\n",
    "y2 = scaler.fit_transform(X) #tranform into vecor\n",
    "clf= PCA(.99)   \n",
    "X_trans = clf.fit_transform(y2)\n",
    "print('VARIANCE REATINED:',clf.n_components)\n",
    "#rint(y2.shape)\n",
    "print('SHAPE AFTER PCA:', X_trans.shape) #GIVES US THE SHAPE AFTER PCA"
   ]
  },
  {
   "cell_type": "markdown",
   "metadata": {},
   "source": [
    "# Statistical Modelling"
   ]
  },
  {
   "cell_type": "markdown",
   "metadata": {},
   "source": [
    "# 1) LINEAR REGRESSION"
   ]
  },
  {
   "cell_type": "code",
   "execution_count": 62,
   "metadata": {
    "collapsed": false
   },
   "outputs": [
    {
     "name": "stdout",
     "output_type": "stream",
     "text": [
      "Results: 215173935816.32 MSE (463868.45) RMSE\n"
     ]
    }
   ],
   "source": [
    "from sklearn.linear_model import LinearRegression\n",
    "lm = LinearRegression()\n",
    "kfold = KFold(n_splits=5, random_state=99)\n",
    "results = cross_val_score(lm, X_trans, y, cv=kfold, scoring='neg_mean_squared_error')\n",
    "print(\"Results: %.2f MSE (%.2f) RMSE\" % (-results.mean(), math.sqrt(-results.mean())))\n"
   ]
  },
  {
   "cell_type": "code",
   "execution_count": null,
   "metadata": {
    "collapsed": true
   },
   "outputs": [],
   "source": []
  },
  {
   "cell_type": "markdown",
   "metadata": {},
   "source": [
    "# 2) GRADIENT BOOSTING REGRESSOR"
   ]
  },
  {
   "cell_type": "markdown",
   "metadata": {},
   "source": [
    "Parameter tuning using gridsearch"
   ]
  },
  {
   "cell_type": "code",
   "execution_count": 63,
   "metadata": {
    "collapsed": false
   },
   "outputs": [
    {
     "data": {
      "text/plain": [
       "GridSearchCV(cv=5, error_score='raise',\n",
       "       estimator=GradientBoostingRegressor(alpha=0.9, criterion='friedman_mse', init=None,\n",
       "             learning_rate=0.1, loss='ls', max_depth=3, max_features=None,\n",
       "             max_leaf_nodes=None, min_impurity_decrease=0.0,\n",
       "             min_impurity_split=None, min_samples_leaf=1,\n",
       "             min_samples_split=2, min_weight_fraction_leaf=0.0,\n",
       "             n_estimators=100, presort='auto', random_state=None,\n",
       "             subsample=1.0, verbose=0, warm_start=False),\n",
       "       fit_params={}, iid=False, n_jobs=4,\n",
       "       param_grid={'n_estimators': array([ 30,  50,  70,  90, 110, 130, 150])},\n",
       "       pre_dispatch='2*n_jobs', refit=True,\n",
       "       scoring='neg_mean_squared_error', verbose=0)"
      ]
     },
     "execution_count": 63,
     "metadata": {},
     "output_type": "execute_result"
    }
   ],
   "source": [
    "from sklearn import ensemble\n",
    "\n",
    "\n",
    "param_test1 = {'n_estimators':np.arange(30,151,20)}\n",
    "gsearch1 = GridSearchCV(estimator =ensemble.GradientBoostingRegressor(learning_rate=0.1), \n",
    "param_grid = param_test1, scoring='neg_mean_squared_error',n_jobs=4,iid=False, cv=5)\n",
    "gsearch1.fit(X_trans,y)"
   ]
  },
  {
   "cell_type": "code",
   "execution_count": 64,
   "metadata": {
    "collapsed": false
   },
   "outputs": [
    {
     "data": {
      "text/plain": [
       "([mean: -99444510718.12411, std: 34540887011.13551, params: {'n_estimators': 30},\n",
       "  mean: -97017298452.57123, std: 34987015114.56656, params: {'n_estimators': 50},\n",
       "  mean: -96422723834.61327, std: 34784778295.29319, params: {'n_estimators': 70},\n",
       "  mean: -96240581427.52341, std: 34088297205.04541, params: {'n_estimators': 90},\n",
       "  mean: -95866266148.58932, std: 34586203317.01948, params: {'n_estimators': 110},\n",
       "  mean: -95849755726.91025, std: 35107540658.27805, params: {'n_estimators': 130},\n",
       "  mean: -96182854143.17860, std: 34690607367.47211, params: {'n_estimators': 150}],\n",
       " {'n_estimators': 130},\n",
       " -95849755726.91025)"
      ]
     },
     "execution_count": 64,
     "metadata": {},
     "output_type": "execute_result"
    }
   ],
   "source": [
    "gsearch1.grid_scores_, gsearch1.best_params_, gsearch1.best_score_"
   ]
  },
  {
   "cell_type": "code",
   "execution_count": 65,
   "metadata": {
    "collapsed": false
   },
   "outputs": [
    {
     "data": {
      "text/plain": [
       "([mean: -99644640760.76854, std: 35115317322.30930, params: {'min_samples_split': 200, 'max_depth': 5},\n",
       "  mean: -102484110611.81351, std: 37574724406.48640, params: {'min_samples_split': 400, 'max_depth': 5},\n",
       "  mean: -98185687566.33525, std: 33015673510.42662, params: {'min_samples_split': 600, 'max_depth': 5},\n",
       "  mean: -98003306097.75696, std: 33389676770.68901, params: {'min_samples_split': 800, 'max_depth': 5},\n",
       "  mean: -99815711977.96152, std: 39999173171.59463, params: {'min_samples_split': 1000, 'max_depth': 5},\n",
       "  mean: -108827966881.00981, std: 48582817776.34645, params: {'min_samples_split': 200, 'max_depth': 7},\n",
       "  mean: -111638350127.52449, std: 59930676827.99511, params: {'min_samples_split': 400, 'max_depth': 7},\n",
       "  mean: -107311564769.88533, std: 51768347512.45438, params: {'min_samples_split': 600, 'max_depth': 7},\n",
       "  mean: -105343574295.02673, std: 44235151757.53831, params: {'min_samples_split': 800, 'max_depth': 7},\n",
       "  mean: -108530006232.54105, std: 42317598518.61184, params: {'min_samples_split': 1000, 'max_depth': 7},\n",
       "  mean: -112216685486.49655, std: 52877686028.11054, params: {'min_samples_split': 200, 'max_depth': 9},\n",
       "  mean: -107744739218.23326, std: 44105683090.48851, params: {'min_samples_split': 400, 'max_depth': 9},\n",
       "  mean: -108221588050.88252, std: 50491802953.01963, params: {'min_samples_split': 600, 'max_depth': 9},\n",
       "  mean: -107469852999.83742, std: 47070495931.67686, params: {'min_samples_split': 800, 'max_depth': 9},\n",
       "  mean: -107063476854.77951, std: 48175036210.82534, params: {'min_samples_split': 1000, 'max_depth': 9},\n",
       "  mean: -109230148610.29964, std: 42279897919.97633, params: {'min_samples_split': 200, 'max_depth': 11},\n",
       "  mean: -112599872039.16870, std: 47979723081.35909, params: {'min_samples_split': 400, 'max_depth': 11},\n",
       "  mean: -107925602631.36102, std: 53835865105.44435, params: {'min_samples_split': 600, 'max_depth': 11},\n",
       "  mean: -106451793322.54863, std: 49926139753.46794, params: {'min_samples_split': 800, 'max_depth': 11},\n",
       "  mean: -114127639213.53049, std: 54298915043.05425, params: {'min_samples_split': 1000, 'max_depth': 11},\n",
       "  mean: -107053078622.22299, std: 38378663150.08590, params: {'min_samples_split': 200, 'max_depth': 13},\n",
       "  mean: -100201394896.42409, std: 36280283383.64242, params: {'min_samples_split': 400, 'max_depth': 13},\n",
       "  mean: -112465455436.08264, std: 54335704118.60002, params: {'min_samples_split': 600, 'max_depth': 13},\n",
       "  mean: -106747360880.51868, std: 48778977994.07447, params: {'min_samples_split': 800, 'max_depth': 13},\n",
       "  mean: -113388958892.28149, std: 54734198712.10030, params: {'min_samples_split': 1000, 'max_depth': 13},\n",
       "  mean: -103996246149.02182, std: 36274657022.05041, params: {'min_samples_split': 200, 'max_depth': 15},\n",
       "  mean: -107656955118.37321, std: 40123750774.15244, params: {'min_samples_split': 400, 'max_depth': 15},\n",
       "  mean: -106372341871.18759, std: 42997871506.35556, params: {'min_samples_split': 600, 'max_depth': 15},\n",
       "  mean: -108752504333.15428, std: 53191006671.70461, params: {'min_samples_split': 800, 'max_depth': 15},\n",
       "  mean: -107353710162.63326, std: 45040170423.62719, params: {'min_samples_split': 1000, 'max_depth': 15}],\n",
       " {'max_depth': 5, 'min_samples_split': 800},\n",
       " -98003306097.75696)"
      ]
     },
     "execution_count": 65,
     "metadata": {},
     "output_type": "execute_result"
    }
   ],
   "source": [
    "param_test2 = {'max_depth':np.arange(5,16,2), 'min_samples_split':np.arange(200,1001,200)}\n",
    "gsearch2 = GridSearchCV(estimator = ensemble.GradientBoostingRegressor(learning_rate=0.1, n_estimators=90), \n",
    "param_grid = param_test2, scoring='neg_mean_squared_error',n_jobs=4,iid=False, cv=5)\n",
    "gsearch2.fit(X_trans,y)\n",
    "gsearch2.grid_scores_, gsearch2.best_params_, gsearch2.best_score_"
   ]
  },
  {
   "cell_type": "code",
   "execution_count": null,
   "metadata": {
    "collapsed": true
   },
   "outputs": [],
   "source": []
  },
  {
   "cell_type": "code",
   "execution_count": 66,
   "metadata": {
    "collapsed": false
   },
   "outputs": [],
   "source": [
    "clf = ensemble.GradientBoostingRegressor(n_estimators = 130, max_depth = 5,min_samples_split=800,\n",
    "          learning_rate = 0.1, verbose=3, random_state=77)"
   ]
  },
  {
   "cell_type": "code",
   "execution_count": 67,
   "metadata": {
    "collapsed": false
   },
   "outputs": [
    {
     "name": "stdout",
     "output_type": "stream",
     "text": [
      "      Iter       Train Loss   Remaining Time \n",
      "         1 95654447691.0939            6.01s\n",
      "         2 88979536521.6902           17.29s\n",
      "         3 83495424290.1933           25.28s\n",
      "         4 78997089631.5551           26.49s\n",
      "         5 75305761695.6315           27.63s\n",
      "         6 72087679739.9921           27.46s\n",
      "         7 69422268463.5470           27.39s\n",
      "         8 67185480590.2304           27.84s\n",
      "         9 64365026246.1192           31.01s\n",
      "        10 61966581938.5198           31.71s\n",
      "        11 59930375093.7205           32.57s\n",
      "        12 58682438142.3822           32.40s\n",
      "        13 57283163020.1203           33.00s\n",
      "        14 55900638200.4538           33.30s\n",
      "        15 54723098636.6164           32.18s\n",
      "        16 53680961574.2059           32.20s\n",
      "        17 52772347492.3770           31.78s\n",
      "        18 52075414715.1544           31.72s\n",
      "        19 51313221721.3366           32.49s\n",
      "        20 50630793087.6875           31.82s\n",
      "        21 50087796083.7723           31.73s\n",
      "        22 49562257035.7392           31.02s\n",
      "        23 49112135394.0485           30.28s\n",
      "        24 48654293765.0976           30.02s\n",
      "        25 48100218580.1837           29.68s\n",
      "        26 47810799626.0443           29.48s\n",
      "        27 47455503938.9448           29.34s\n",
      "        28 47202331728.5873           28.60s\n",
      "        29 46959706468.3632           27.92s\n",
      "        30 46737869684.4560           27.35s\n",
      "        31 46265434863.7606           26.74s\n",
      "        32 45996431396.1028           26.92s\n",
      "        33 45841561445.5684           26.50s\n",
      "        34 45529178360.5697           26.08s\n",
      "        35 45408327020.9003           25.55s\n",
      "        36 45197229750.1325           25.10s\n",
      "        37 45024601011.4745           24.73s\n",
      "        38 44731195503.8860           24.52s\n",
      "        39 44525016425.8344           24.19s\n",
      "        40 44280086547.5054           23.91s\n",
      "        41 44123365580.5528           23.94s\n",
      "        42 43875497131.2527           23.67s\n",
      "        43 43721365932.5577           23.34s\n",
      "        44 43608350337.5852           23.02s\n",
      "        45 43481265489.6361           22.67s\n",
      "        46 43300949707.4867           22.51s\n",
      "        47 43258775679.2027           22.35s\n",
      "        48 43213896969.7476           22.30s\n",
      "        49 43034683652.6368           21.95s\n",
      "        50 42981499878.1638           21.64s\n",
      "        51 42897075552.5047           21.20s\n",
      "        52 42787790631.3571           20.84s\n",
      "        53 42707297027.1114           20.53s\n",
      "        54 42573090168.8027           20.15s\n",
      "        55 42544270498.8528           19.95s\n",
      "        56 42451195689.2978           19.77s\n",
      "        57 42296180871.7982           19.51s\n",
      "        58 42243077457.7484           19.23s\n",
      "        59 42154763222.6063           18.83s\n",
      "        60 42117087563.6564           18.45s\n",
      "        61 42020880112.2695           18.27s\n",
      "        62 41995370270.5266           17.96s\n",
      "        63 41832674604.7427           17.59s\n",
      "        64 41735438064.9280           17.25s\n",
      "        65 41699001435.9738           16.95s\n",
      "        66 41626268104.5052           16.57s\n",
      "        67 41574318227.3475           16.23s\n",
      "        68 41494705350.4250           15.94s\n",
      "        69 41469858869.5149           15.67s\n",
      "        70 41392543685.9447           15.46s\n",
      "        71 41317906525.4036           15.12s\n",
      "        72 41206582071.5778           14.78s\n",
      "        73 41126010955.6917           14.51s\n",
      "        74 41095083187.2801           14.29s\n",
      "        75 41064358239.4958           14.02s\n",
      "        76 41018331452.3697           13.79s\n",
      "        77 41000560217.5081           13.57s\n",
      "        78 40877464723.7901           13.27s\n",
      "        79 40810784688.5601           12.99s\n",
      "        80 40785913573.4744           12.79s\n",
      "        81 40743323737.0391           12.54s\n",
      "        82 40706212902.2504           12.26s\n",
      "        83 40628103695.7476           12.02s\n",
      "        84 40525198433.9273           11.72s\n",
      "        85 40511966678.8885           11.41s\n",
      "        86 40487234378.0588           11.16s\n",
      "        87 40407508516.4311           10.91s\n",
      "        88 40385265747.0805           10.62s\n",
      "        89 40273065885.8878           10.36s\n",
      "        90 40183931223.8540           10.06s\n",
      "        91 40125059190.2368            9.79s\n",
      "        92 40023602263.2714            9.50s\n",
      "        93 39997231292.5482            9.19s\n",
      "        94 39945782852.8398            8.90s\n",
      "        95 39928496198.0789            8.66s\n",
      "        96 39916642432.1674            8.54s\n",
      "        97 39887605114.9148            8.30s\n",
      "        98 39880233420.8952            8.07s\n",
      "        99 39834882375.4986            7.80s\n",
      "       100 39796106561.1922            7.52s\n",
      "       101 39687400142.1581            7.26s\n",
      "       102 39677818788.5936            7.00s\n",
      "       103 39666114800.4029            6.79s\n",
      "       104 39624540253.2057            6.60s\n",
      "       105 39548323926.1762            6.39s\n",
      "       106 39446682621.2465            6.13s\n",
      "       107 39422629209.9082            5.89s\n",
      "       108 39362750567.6649            5.63s\n",
      "       109 39307433676.2913            5.36s\n",
      "       110 39284124311.4592            5.09s\n",
      "       111 39276365946.3882            4.83s\n",
      "       112 39266555541.8018            4.56s\n",
      "       113 39207067117.6074            4.29s\n",
      "       114 39166535878.1567            4.03s\n",
      "       115 39118829556.8198            3.80s\n",
      "       116 39073777629.3483            3.55s\n",
      "       117 39065755071.6086            3.30s\n",
      "       118 39059637519.7789            3.04s\n",
      "       119 39052958409.9059            2.79s\n",
      "       120 39034104692.2612            2.53s\n",
      "       121 38938417311.7483            2.28s\n",
      "       122 38870853207.7350            2.03s\n",
      "       123 38864873685.5360            1.78s\n",
      "       124 38847693086.5186            1.52s\n",
      "       125 38800401525.4465            1.27s\n",
      "       126 38742311477.7091            1.01s\n",
      "       127 38686206056.1501            0.76s\n",
      "       128 38674816198.2115            0.51s\n",
      "       129 38659963894.1608            0.26s\n",
      "       130 38619756840.5146            0.00s\n",
      "      Iter       Train Loss   Remaining Time \n",
      "         1 99701588708.3470            5.76s\n",
      "         2 92462349759.2822           11.77s\n",
      "         3 86461001761.2851           22.99s\n",
      "         4 81605178832.9310           24.63s\n",
      "         5 77439395124.6817           27.48s\n",
      "         6 73902852331.2561           26.08s\n",
      "         7 70797704754.0123           27.24s\n",
      "         8 68394480597.0429           27.92s\n",
      "         9 66200493531.5804           29.71s\n",
      "        10 64165798064.9831           29.87s\n",
      "        11 62389669883.8704           30.30s\n",
      "        12 60957544407.6871           32.70s\n",
      "        13 59795905069.6746           31.69s\n",
      "        14 58831951324.9458           30.23s\n",
      "        15 57857360918.2792           29.02s\n",
      "        16 57072577011.0319           28.13s\n",
      "        17 56329881228.9455           27.38s\n",
      "        18 55571636906.1405           27.10s\n",
      "        19 55061164058.0592           26.34s\n",
      "        20 54552087787.7741           25.76s\n",
      "        21 54139932191.5003           25.50s\n",
      "        22 53644477530.8758           24.93s\n",
      "        23 53272100886.0447           26.16s\n",
      "        24 52965959560.4187           26.14s\n",
      "        25 52574714420.5865           26.85s\n",
      "        26 52329236110.6179           27.15s\n",
      "        27 51972740141.1276           27.15s\n",
      "        28 51633613459.8344           26.76s\n",
      "        29 51480104237.1695           27.32s\n",
      "        30 51259765891.5979           28.68s\n",
      "        31 50917179737.6869           28.79s\n",
      "        32 50749519439.2401           28.69s\n",
      "        33 50472974589.5767           28.21s\n",
      "        34 50288663017.1221           27.58s\n",
      "        35 50093989688.2748           27.34s\n",
      "        36 49915676927.6761           27.24s\n",
      "        37 49666179689.1406           27.29s\n",
      "        38 49479621208.8620           27.02s\n",
      "        39 49362533198.0288           26.75s\n",
      "        40 49148094728.2533           26.47s\n",
      "        41 49051386400.0589           25.80s\n",
      "        42 48891033740.7736           25.39s\n",
      "        43 48778186023.1839           25.20s\n",
      "        44 48679170594.1209           24.66s\n",
      "        45 48597785114.0415           24.07s\n",
      "        46 48502543075.4464           23.53s\n",
      "        47 48374930152.3572           23.09s\n",
      "        48 48306622670.4039           22.98s\n",
      "        49 48173643459.4556           22.79s\n",
      "        50 48026252035.7682           22.35s\n",
      "        51 47971883737.9971           21.87s\n",
      "        52 47816912320.4848           21.45s\n",
      "        53 47708230705.8305           21.07s\n",
      "        54 47597741493.6289           20.68s\n",
      "        55 47503033618.0718           20.39s\n",
      "        56 47391903940.0080           20.11s\n",
      "        57 47365181229.5956           19.99s\n",
      "        58 47310696141.0508           19.56s\n",
      "        59 47247992702.5108           19.33s\n",
      "        60 47093053870.9716           18.92s\n",
      "        61 46973072418.3902           18.56s\n",
      "        62 46888186706.8256           18.20s\n",
      "        63 46830138466.8458           17.81s\n",
      "        64 46800837407.6873           17.38s\n",
      "        65 46641666108.5643           17.06s\n",
      "        66 46535670274.5834           16.82s\n",
      "        67 46510668509.5264           16.48s\n",
      "        68 46476493221.6546           16.16s\n",
      "        69 46430632553.6479           15.83s\n",
      "        70 46327559981.5300           15.58s\n",
      "        71 46298362151.4554           15.24s\n",
      "        72 46278064658.5839           14.92s\n",
      "        73 46128703596.4495           14.62s\n",
      "        74 46115689626.9250           14.38s\n",
      "        75 46074033234.5152           14.09s\n",
      "        76 46056964460.1579           13.75s\n",
      "        77 46025862081.8987           13.44s\n",
      "        78 45944834708.0657           13.16s\n",
      "        79 45886124058.1145           12.87s\n",
      "        80 45867264107.5601           12.57s\n",
      "        81 45837911376.1356           12.33s\n",
      "        82 45743793775.2156           12.09s\n",
      "        83 45723123000.5544           11.83s\n",
      "        84 45649123074.6267           11.73s\n",
      "        85 45582953745.5937           11.45s\n",
      "        86 45572278271.0511           11.18s\n",
      "        87 45542104695.7770           10.86s\n",
      "        88 45525813739.7962           10.56s\n",
      "        89 45420851721.6136           10.26s\n",
      "        90 45398623075.6692           10.05s\n",
      "        91 45380932598.6697            9.88s\n",
      "        92 45265743403.2825            9.72s\n",
      "        93 45184164739.6007            9.53s\n",
      "        94 45177061879.4899            9.24s\n",
      "        95 45169131581.3373            9.06s\n",
      "        96 45117203597.9348            8.77s\n",
      "        97 45007173421.4521            8.50s\n",
      "        98 44996433244.4000            8.24s\n",
      "        99 44966909317.4277            8.03s\n",
      "       100 44879514020.8023            7.75s\n",
      "       101 44866315756.7689            7.51s\n",
      "       102 44853754204.2955            7.26s\n",
      "       103 44846628138.7481            7.06s\n",
      "       104 44797076101.2719            6.79s\n",
      "       105 44781579447.6578            6.50s\n",
      "       106 44747316921.2832            6.22s\n",
      "       107 44727745457.6033            5.95s\n",
      "       108 44676645688.6929            5.67s\n",
      "       109 44604434944.2815            5.40s\n",
      "       110 44569873538.4514            5.15s\n",
      "       111 44563859358.8408            4.89s\n",
      "       112 44513001005.3617            4.66s\n",
      "       113 44413198349.7258            4.41s\n",
      "       114 44395180400.0690            4.18s\n",
      "       115 44378048551.6620            3.95s\n",
      "       116 44335019746.2125            3.68s\n",
      "       117 44310014470.6744            3.40s\n",
      "       118 44237461513.9504            3.13s\n",
      "       119 44199291282.8322            2.86s\n",
      "       120 44163038155.7120            2.60s\n",
      "       121 44069986775.7908            2.34s\n",
      "       122 44006014706.9573            2.07s\n",
      "       123 43974736141.2474            1.81s\n",
      "       124 43963885984.4562            1.55s\n",
      "       125 43937772709.4432            1.30s\n",
      "       126 43930957678.2442            1.04s\n",
      "       127 43917620716.9239            0.79s\n",
      "       128 43891739636.6465            0.52s\n",
      "       129 43857667614.2299            0.26s\n",
      "       130 43836896238.8288            0.00s\n",
      "      Iter       Train Loss   Remaining Time \n",
      "         1 99061870630.3797            5.05s\n",
      "         2 92258884613.4811           31.24s\n",
      "         3 86701293810.1727           31.77s\n",
      "         4 82191852751.7800           30.44s\n",
      "         5 78190688077.3942           29.39s\n",
      "         6 74929584500.0337           29.99s\n",
      "         7 72435892356.2138           32.02s\n",
      "         8 69928270243.6072           34.20s\n",
      "         9 67467947704.6409           36.77s\n",
      "        10 65719062568.7675           35.25s\n",
      "        11 63895581505.6998           34.89s\n",
      "        12 62394226536.1954           33.74s\n",
      "        13 60827830517.8820           32.82s\n",
      "        14 59535049425.0793           32.08s\n",
      "        15 58504019429.4855           31.28s\n",
      "        16 57550532371.2422           30.17s\n",
      "        17 56716141184.3259           30.67s\n",
      "        18 56088354915.8422           30.03s\n",
      "        19 55446142860.3200           29.47s\n",
      "        20 54960720358.5176           28.80s\n",
      "        21 54534907493.8865           28.17s\n",
      "        22 54126291128.1823           27.61s\n",
      "        23 53658160968.3250           27.03s\n",
      "        24 53244513204.9826           26.76s\n",
      "        25 52944931887.3623           26.43s\n",
      "        26 52650468630.6959           26.28s\n",
      "        27 52239518754.9646           26.43s\n",
      "        28 51830728333.2805           25.85s\n",
      "        29 51600511911.1377           25.30s\n",
      "        30 51226404728.7301           25.50s\n",
      "        31 50881934038.9193           25.99s\n",
      "        32 50758299043.5543           25.56s\n",
      "        33 50566725477.8579           25.01s\n",
      "        34 50407645542.3905           24.50s\n",
      "        35 50229744826.2118           24.01s\n",
      "        36 50162268664.9055           23.99s\n",
      "        37 49987187031.5769           23.65s\n",
      "        38 49910430754.6241           23.31s\n",
      "        39 49687269125.2032           23.11s\n",
      "        40 49619145443.8605           22.84s\n",
      "        41 49343104836.2317           22.96s\n",
      "        42 49303358879.9365           22.59s\n",
      "        43 49129051613.5747           22.51s\n",
      "        44 49081844131.8137           22.44s\n",
      "        45 49002765091.7639           22.32s\n",
      "        46 48838527100.6157           21.86s\n",
      "        47 48774514932.9194           21.48s\n",
      "        48 48710257864.0073           21.11s\n",
      "        49 48614076297.3178           21.26s\n",
      "        50 48539809139.8899           21.12s\n",
      "        51 48503593653.6429           20.87s\n",
      "        52 48336114078.2423           20.54s\n",
      "        53 48304502631.6500           20.36s\n",
      "        54 48253248744.1179           20.24s\n",
      "        55 48230170336.1254           20.01s\n",
      "        56 48194672585.1189           19.58s\n",
      "        57 48009721041.4059           19.23s\n",
      "        58 47812276230.8881           18.91s\n",
      "        59 47695217862.0478           18.63s\n",
      "        60 47645797080.6459           18.33s\n",
      "        61 47593847359.1774           18.06s\n",
      "        62 47426021265.9488           17.83s\n",
      "        63 47387729388.1306           17.53s\n",
      "        64 47348061578.7919           17.30s\n",
      "        65 47195573224.4288           16.96s\n",
      "        66 47139432298.5944           16.80s\n",
      "        67 47055468099.3006           16.58s\n",
      "        68 46989322661.4475           16.41s\n",
      "        69 46919256843.8076           16.20s\n",
      "        70 46897747041.8693           15.89s\n",
      "        71 46855761766.5059           15.83s\n",
      "        72 46772090250.5724           15.61s\n",
      "        73 46674902339.2263           15.50s\n",
      "        74 46636897157.0768           15.18s\n",
      "        75 46606686659.4770           14.84s\n",
      "        76 46591558938.8000           14.48s\n",
      "        77 46518576405.8873           14.15s\n",
      "        78 46462286425.8302           13.78s\n",
      "        79 46426476394.9702           13.47s\n",
      "        80 46359045007.8367           13.17s\n",
      "        81 46271323842.1779           13.01s\n",
      "        82 46253888073.6124           12.76s\n",
      "        83 46225187962.2433           12.50s\n",
      "        84 46128252668.7334           12.29s\n",
      "        85 46074333831.3812           11.98s\n",
      "        86 46019399707.8499           11.73s\n",
      "        87 46008840034.3351           11.51s\n",
      "        88 46000424057.5294           11.25s\n",
      "        89 45922086176.4732           11.02s\n",
      "        90 45865937533.3681           10.77s\n",
      "        91 45753649652.7431           10.51s\n",
      "        92 45694111130.8801           10.21s\n",
      "        93 45586880258.0471            9.96s\n",
      "        94 45505817919.8100            9.70s\n",
      "        95 45489178129.4648            9.47s\n",
      "        96 45479724947.7095            9.17s\n",
      "        97 45434598204.6142            8.87s\n",
      "        98 45343564456.6692            8.57s\n",
      "        99 45319374277.0852            8.30s\n",
      "       100 45298669551.8139            8.05s\n",
      "       101 45248985273.5500            7.78s\n",
      "       102 45173728318.8293            7.51s\n",
      "       103 45166192258.3179            7.29s\n",
      "       104 45144604647.1820            7.08s\n",
      "       105 45059978218.7931            6.83s\n",
      "       106 45011362755.5830            6.56s\n",
      "       107 44975701126.6554            6.30s\n",
      "       108 44939652097.8827            6.03s\n",
      "       109 44917203955.0058            5.78s\n",
      "       110 44897656100.0984            5.50s\n",
      "       111 44891187486.5319            5.20s\n",
      "       112 44845574722.3046            4.91s\n",
      "       113 44781781986.4756            4.65s\n",
      "       114 44737025279.2833            4.36s\n",
      "       115 44701720743.0994            4.09s\n",
      "       116 44645048241.6254            3.81s\n",
      "       117 44605941396.3605            3.54s\n",
      "       118 44586421163.1230            3.27s\n",
      "       119 44497325168.7840            2.99s\n",
      "       120 44415801125.7271            2.72s\n",
      "       121 44364437684.1039            2.45s\n",
      "       122 44316300704.3998            2.17s\n",
      "       123 44268888948.0885            1.90s\n",
      "       124 44253031314.9857            1.63s\n",
      "       125 44246960351.7256            1.36s\n",
      "       126 44237873376.3950            1.09s\n",
      "       127 44219846615.8633            0.82s\n",
      "       128 44149264482.6404            0.54s\n",
      "       129 44144782377.8157            0.27s\n",
      "       130 44121424250.0231            0.00s\n",
      "      Iter       Train Loss   Remaining Time \n",
      "         1 105111703894.7247            5.49s\n",
      "         2 98308573549.7390           13.68s\n",
      "         3 92628442035.0161           24.40s\n",
      "         4 87988238619.2112           31.52s\n",
      "         5 83642603508.0259           30.48s\n",
      "         6 80302412852.7686           35.43s\n",
      "         7 77102563848.4867           32.74s\n",
      "         8 74434555598.9482           32.08s\n",
      "         9 72285899264.7171           31.17s\n",
      "        10 70393213900.9807           29.99s\n",
      "        11 68576330813.6742           31.61s\n",
      "        12 67148882578.1439           30.32s\n",
      "        13 65768900778.4545           29.46s\n",
      "        14 64670697910.4098           28.62s\n",
      "        15 63667606686.4735           28.06s\n",
      "        16 62992939890.9879           27.34s\n",
      "        17 62093349507.4274           27.32s\n",
      "        18 61447905085.4934           27.02s\n",
      "        19 60755636916.3130           26.93s\n",
      "        20 60340703214.3323           26.65s\n",
      "        21 59715498009.6615           26.53s\n",
      "        22 59186500420.1895           26.22s\n",
      "        23 58913553710.9326           26.06s\n",
      "        24 58521341947.3173           26.10s\n",
      "        25 58094087609.3102           25.78s\n",
      "        26 57831338038.7305           25.12s\n",
      "        27 57357260365.3627           24.76s\n",
      "        28 57145469700.6147           24.21s\n",
      "        29 56838068326.5357           23.71s\n",
      "        30 56598802620.8626           23.29s\n",
      "        31 56428755412.6595           22.79s\n",
      "        32 56162277127.0487           22.66s\n",
      "        33 55938554014.1703           22.57s\n",
      "        34 55845099435.5491           22.77s\n",
      "        35 55713107519.0120           22.44s\n",
      "        36 55557563745.2454           22.25s\n",
      "        37 55427707369.5092           22.16s\n",
      "        38 55257664099.6661           21.82s\n",
      "        39 55201777597.3498           21.39s\n",
      "        40 55121497119.0848           21.06s\n",
      "        41 55021275688.5149           20.80s\n",
      "        42 54896858108.1959           20.54s\n",
      "        43 54792256729.0494           20.22s\n",
      "        44 54656601930.0674           19.90s\n",
      "        45 54556618874.7954           19.74s\n",
      "        46 54385226831.8085           19.48s\n",
      "        47 54300779505.4593           19.28s\n",
      "        48 54176338653.8559           19.35s\n",
      "        49 54055015846.3715           19.08s\n",
      "        50 53979696816.7018           18.82s\n",
      "        51 53906700422.3602           18.55s\n",
      "        52 53807360356.0178           18.18s\n",
      "        53 53781490673.8989           17.84s\n",
      "        54 53684279290.1344           17.49s\n",
      "        55 53521852957.2243           17.17s\n",
      "        56 53471932304.8251           16.93s\n",
      "        57 53350538418.3356           16.62s\n",
      "        58 53312502829.0046           16.36s\n",
      "        59 53286530280.4652           16.07s\n",
      "        60 53211198704.6957           16.03s\n",
      "        61 53134491427.6892           15.80s\n",
      "        62 53088225117.9576           15.65s\n",
      "        63 53035835826.9880           15.39s\n",
      "        64 52969280959.3792           15.46s\n",
      "        65 52898058867.0771           15.16s\n",
      "        66 52867733152.7661           15.15s\n",
      "        67 52807111458.5869           14.86s\n",
      "        68 52712673227.2299           14.68s\n",
      "        69 52681425891.7797           14.58s\n",
      "        70 52608898015.0802           14.63s\n",
      "        71 52534585337.7044           14.43s\n",
      "        72 52443739389.4923           14.12s\n",
      "        73 52426648977.6869           13.79s\n",
      "        74 52414501428.8485           13.50s\n",
      "        75 52389086433.6202           13.20s\n",
      "        76 52331589021.2836           12.91s\n",
      "        77 52256569435.6430           12.67s\n",
      "        78 52245373159.4776           12.35s\n",
      "        79 52181600908.5010           12.11s\n",
      "        80 52126824725.5587           11.92s\n",
      "        81 52032608253.8686           11.71s\n",
      "        82 51975851315.6840           11.51s\n",
      "        83 51879394607.1646           11.26s\n",
      "        84 51808582720.9892           10.98s\n",
      "        85 51799528696.8675           10.75s\n",
      "        86 51747476146.5626           10.53s\n",
      "        87 51697032673.7858           10.32s\n",
      "        88 51643915584.9725           10.13s\n",
      "        89 51602112128.7802            9.87s\n",
      "        90 51535243773.1096            9.62s\n",
      "        91 51443415559.2269            9.46s\n",
      "        92 51390317640.6837            9.18s\n",
      "        93 51347319186.2304            8.96s\n",
      "        94 51252233319.4449            8.73s\n",
      "        95 51218532202.8156            8.45s\n",
      "        96 51149417552.8979            8.22s\n",
      "        97 51078328236.2773            7.97s\n",
      "        98 51025016091.3513            7.77s\n",
      "        99 50984954397.8437            7.54s\n",
      "       100 50976617226.4046            7.28s\n",
      "       101 50967669583.1366            7.01s\n",
      "       102 50907962493.6694            6.74s\n",
      "       103 50867176153.0429            6.50s\n",
      "       104 50806693215.0498            6.26s\n",
      "       105 50727953717.9422            6.03s\n",
      "       106 50708270151.1343            5.77s\n",
      "       107 50618627599.9207            5.52s\n",
      "       108 50602479423.4292            5.31s\n",
      "       109 50595081806.3208            5.05s\n",
      "       110 50577463318.0060            4.80s\n",
      "       111 50505651163.2510            4.54s\n",
      "       112 50386441286.4984            4.31s\n",
      "       113 50376654284.4121            4.09s\n",
      "       114 50362229048.0643            3.87s\n",
      "       115 50299712071.0831            3.64s\n",
      "       116 50260844601.8273            3.40s\n",
      "       117 50254018137.3181            3.17s\n",
      "       118 50194106470.2166            2.92s\n",
      "       119 50165113989.3558            2.68s\n",
      "       120 50058757283.5820            2.44s\n",
      "       121 50023770466.7643            2.19s\n",
      "       122 50003107575.8950            1.95s\n",
      "       123 49988308975.4608            1.71s\n",
      "       124 49978185782.5553            1.46s\n",
      "       125 49972436789.9915            1.21s\n",
      "       126 49965694442.4042            0.97s\n",
      "       127 49852064283.3038            0.73s\n",
      "       128 49835244212.7609            0.49s\n",
      "       129 49816840718.5587            0.24s\n",
      "       130 49811285487.5703            0.00s\n",
      "      Iter       Train Loss   Remaining Time \n",
      "         1 112817710390.6021            5.24s\n",
      "         2 105151016380.1526           18.68s\n",
      "         3 98332498963.2461           26.47s\n",
      "         4 92809905528.9112           25.22s\n",
      "         5 88265823305.2126           24.48s\n",
      "         6 84643607036.0196           26.30s\n",
      "         7 81452541099.9610           27.91s\n",
      "         8 78682690737.9054           26.58s\n",
      "         9 76454400582.9398           25.29s\n",
      "        10 74440079074.8315           25.01s\n",
      "        11 72828922317.3291           25.17s\n",
      "        12 71227169207.9590           25.81s\n",
      "        13 69963280446.8961           26.48s\n",
      "        14 68877417524.6523           26.19s\n",
      "        15 67672999610.1420           25.35s\n",
      "        16 66804706455.0416           25.99s\n",
      "        17 65907420109.8998           25.77s\n",
      "        18 65015249307.3239           26.03s\n",
      "        19 64132382019.6616           25.67s\n",
      "        20 63582274540.1012           25.64s\n",
      "        21 62871725090.6304           24.98s\n",
      "        22 62205266541.7937           24.82s\n",
      "        23 61689982551.7862           24.28s\n",
      "        24 61369044736.4732           23.83s\n",
      "        25 60969902117.1720           23.55s\n",
      "        26 60697103466.0136           23.34s\n",
      "        27 60264472594.8076           23.27s\n",
      "        28 60011280630.6169           23.19s\n",
      "        29 59809080910.7211           22.74s\n",
      "        30 59586958848.8617           22.23s\n",
      "        31 59177756849.8814           22.40s\n",
      "        32 58857373664.1494           22.39s\n",
      "        33 58751963203.0330           21.97s\n",
      "        34 58476351006.1241           22.23s\n",
      "        35 58322078513.3702           22.15s\n",
      "        36 58130637202.2300           22.12s\n",
      "        37 58055716760.9457           21.78s\n",
      "        38 57832365687.5845           21.44s\n",
      "        39 57677330153.8793           21.21s\n",
      "        40 57448717149.2313           20.95s\n",
      "        41 57396720997.4710           20.60s\n",
      "        42 57348263297.1377           20.18s\n",
      "        43 57214232673.6115           19.94s\n",
      "        44 56973007541.8395           19.63s\n",
      "        45 56873318887.7810           19.33s\n",
      "        46 56833773349.1529           18.93s\n",
      "        47 56768247411.3167           18.65s\n",
      "        48 56503543837.6212           18.53s\n",
      "        49 56413827265.0884           18.33s\n",
      "        50 56337686696.5189           18.04s\n",
      "        51 56182732980.2003           17.78s\n",
      "        52 56138866169.4372           17.63s\n",
      "        53 56035558060.6906           17.32s\n",
      "        54 56000436055.4595           17.21s\n",
      "        55 55886574291.5700           17.04s\n",
      "        56 55848680290.3012           16.91s\n",
      "        57 55825289308.1639           16.87s\n",
      "        58 55780038206.5519           16.62s\n",
      "        59 55616682386.3071           16.38s\n",
      "        60 55570623116.8738           16.06s\n",
      "        61 55478666892.0906           15.86s\n",
      "        62 55308118333.5819           16.00s\n",
      "        63 55234034237.4325           15.72s\n",
      "        64 55100607543.5739           15.48s\n",
      "        65 55075086560.8328           15.23s\n",
      "        66 55011142131.8258           14.98s\n",
      "        67 54919538875.5750           14.80s\n",
      "        68 54862896911.3327           14.57s\n",
      "        69 54809658671.6093           14.35s\n",
      "        70 54705013810.0910           14.09s\n",
      "        71 54644769882.3675           13.84s\n",
      "        72 54551642659.9687           13.55s\n",
      "        73 54494540894.0559           13.27s\n",
      "        74 54415512093.6473           13.00s\n",
      "        75 54400342860.0266           12.75s\n",
      "        76 54306498225.7276           12.51s\n",
      "        77 54288303558.5210           12.30s\n",
      "        78 54221451175.8066           12.04s\n",
      "        79 54157020720.0364           11.79s\n",
      "        80 54142521611.8368           11.70s\n",
      "        81 54129984602.1187           11.47s\n",
      "        82 54100765077.5000           11.24s\n",
      "        83 54008454320.2025           10.99s\n",
      "        84 53930089053.8401           10.71s\n",
      "        85 53863554115.2553           10.43s\n",
      "        86 53802072375.5931           10.25s\n",
      "        87 53749209690.7469            9.97s\n",
      "        88 53738161854.7784            9.87s\n",
      "        89 53689311200.0500            9.67s\n",
      "        90 53650860683.3793            9.42s\n",
      "        91 53640913756.7434            9.15s\n",
      "        92 53561017380.5184            8.97s\n",
      "        93 53451044632.8102            8.92s\n",
      "        94 53376685139.9464            8.71s\n",
      "        95 53339514231.1119            8.45s\n",
      "        96 53324216846.6506            8.23s\n",
      "        97 53207904319.5290            8.01s\n",
      "        98 53073049261.6597            7.77s\n",
      "        99 53064491131.1891            7.52s\n",
      "       100 53055275367.9803            7.31s\n",
      "       101 53017596103.5700            7.06s\n",
      "       102 52944500480.2842            6.84s\n",
      "       103 52897085711.6062            6.64s\n",
      "       104 52879636408.3260            6.36s\n",
      "       105 52866930426.8057            6.13s\n",
      "       106 52831126508.8552            5.89s\n",
      "       107 52804064130.2379            5.67s\n",
      "       108 52758970125.2566            5.42s\n",
      "       109 52751974263.5768            5.17s\n",
      "       110 52722828024.7127            4.92s\n",
      "       111 52714651364.5496            4.67s\n",
      "       112 52705701662.3747            4.45s\n",
      "       113 52693763871.2206            4.20s\n",
      "       114 52665415424.2371            3.95s\n",
      "       115 52635427038.2690            3.71s\n",
      "       116 52594338409.1354            3.47s\n",
      "       117 52536410098.4210            3.22s\n",
      "       118 52530789059.1411            2.96s\n",
      "       119 52482327657.9713            2.72s\n",
      "       120 52414122411.9920            2.47s\n",
      "       121 52376787184.6916            2.22s\n",
      "       122 52297378213.5742            1.97s\n",
      "       123 52275264928.4629            1.73s\n",
      "       124 52262779415.1105            1.48s\n",
      "       125 52203138396.0368            1.24s\n",
      "       126 52141466706.9858            0.99s\n",
      "       127 52103289956.1237            0.74s\n",
      "       128 52030916713.2273            0.49s\n",
      "       129 52018435922.5834            0.25s\n",
      "       130 52008644943.6398            0.00s\n",
      "Results: 114395985335.95 MSE (338224.76) RMSE\n"
     ]
    }
   ],
   "source": [
    "\n",
    "kfold = KFold(n_splits=5, random_state=99)\n",
    "results = cross_val_score(clf, X, y, cv=kfold, scoring='neg_mean_squared_error')\n",
    "print(\"Results: %.2f MSE (%.2f) RMSE\" % (-results.mean(), math.sqrt(-results.mean())))"
   ]
  },
  {
   "cell_type": "markdown",
   "metadata": {},
   "source": [
    "# 3) FULLY CONNECTED NEURAL NETWORKS"
   ]
  },
  {
   "cell_type": "code",
   "execution_count": 68,
   "metadata": {
    "collapsed": false
   },
   "outputs": [],
   "source": [
    "n = df1.shape[0]\n",
    "p = df1.shape[1]\n",
    "data = df1.values"
   ]
  },
  {
   "cell_type": "code",
   "execution_count": 69,
   "metadata": {
    "collapsed": true
   },
   "outputs": [],
   "source": [
    "# Training and test data\n",
    "train_start = 0\n",
    "train_end = int(np.floor(0.8*n))\n",
    "test_start = train_end + 1\n",
    "test_end = n\n",
    "data_train = data[np.arange(train_start, train_end), :]\n",
    "data_test = data[np.arange(test_start, test_end), :]\n"
   ]
  },
  {
   "cell_type": "code",
   "execution_count": 70,
   "metadata": {
    "collapsed": true
   },
   "outputs": [],
   "source": [
    "# Build X and y\n",
    "X_train = data_train[:, 1:]\n",
    "y_train = data_train[:, -1]\n",
    "X_test = data_test[:, 1:]\n",
    "y_test = data_test[:, -1]"
   ]
  },
  {
   "cell_type": "code",
   "execution_count": 71,
   "metadata": {
    "collapsed": false
   },
   "outputs": [
    {
     "data": {
      "text/plain": [
       "(9748,)"
      ]
     },
     "execution_count": 71,
     "metadata": {},
     "output_type": "execute_result"
    }
   ],
   "source": [
    "y_test.shape"
   ]
  },
  {
   "cell_type": "code",
   "execution_count": 72,
   "metadata": {
    "collapsed": false
   },
   "outputs": [
    {
     "data": {
      "text/plain": [
       "9"
      ]
     },
     "execution_count": 72,
     "metadata": {},
     "output_type": "execute_result"
    }
   ],
   "source": [
    "# Import TensorFlow\n",
    "import tensorflow as tf\n",
    "\n",
    "# Define a and b as placeholders\n",
    "a = tf.placeholder(dtype=tf.int8)\n",
    "b = tf.placeholder(dtype=tf.int8)\n",
    "\n",
    "# Define the addition\n",
    "c = tf.add(a, b)\n",
    "\n",
    "# Initialize the graph\n",
    "graph = tf.Session()\n",
    "\n",
    "# Run the graph\n",
    "graph.run(c, feed_dict={a: 5, b: 4})"
   ]
  },
  {
   "cell_type": "code",
   "execution_count": 73,
   "metadata": {
    "collapsed": true
   },
   "outputs": [],
   "source": [
    "# Model architecture parameters\n",
    "n_features = 16\n",
    "n_neurons_1 = 256\n",
    "n_neurons_2 = 128\n",
    "n_neurons_3 = 64\n",
    "n_neurons_4 = 36\n",
    "n_target = 1"
   ]
  },
  {
   "cell_type": "code",
   "execution_count": 74,
   "metadata": {
    "collapsed": true
   },
   "outputs": [],
   "source": [
    "# Placeholder\n",
    "X = tf.placeholder(dtype=tf.float32, shape=[None, n_features])\n",
    "Y = tf.placeholder(dtype=tf.float32, shape=[None])"
   ]
  },
  {
   "cell_type": "code",
   "execution_count": 75,
   "metadata": {
    "collapsed": true
   },
   "outputs": [],
   "source": [
    "# Layer 1: Variables for hidden weights and biases\n",
    "W_hidden_1 = tf.Variable(tf.random_normal([n_features, n_neurons_1]),name=\"weights\")\n",
    "bias_hidden_1 = tf.Variable(tf.random_normal([n_neurons_1]),name=\"biases\")\n",
    "# Layer 2: Variables for hidden weights and biases\n",
    "W_hidden_2 = tf.Variable(tf.random_normal([n_neurons_1, n_neurons_2]),name=\"weights\")\n",
    "bias_hidden_2 = tf.Variable(tf.random_normal([n_neurons_2]),name=\"biases\")\n",
    "# Layer 3: Variables for hidden weights and biases\n",
    "W_hidden_3 = tf.Variable(tf.random_normal([n_neurons_2, n_neurons_3]),name=\"weights\")\n",
    "bias_hidden_3 = tf.Variable(tf.random_normal([n_neurons_3]),name=\"biases\")\n",
    "# Layer 4: Variables for hidden weights and biases\n",
    "W_hidden_4 = tf.Variable(tf.random_normal([n_neurons_3, n_neurons_4]),name=\"weights\")\n",
    "bias_hidden_4 = tf.Variable(tf.random_normal([n_neurons_4]),name=\"biases\")\n",
    "\n",
    "# Output layer: Variables for output weights and biases\n",
    "W_out = tf.Variable(tf.random_normal([n_neurons_4, n_target]),name=\"weights\")\n",
    "bias_out = tf.Variable(tf.random_normal([n_target]),name=\"biases\")"
   ]
  },
  {
   "cell_type": "code",
   "execution_count": 76,
   "metadata": {
    "collapsed": true
   },
   "outputs": [],
   "source": [
    "# Hidden layer\n",
    "hidden_1 = tf.nn.relu(tf.add(tf.matmul(X, W_hidden_1), bias_hidden_1))\n",
    "hidden_2 = tf.nn.relu(tf.add(tf.matmul(hidden_1, W_hidden_2), bias_hidden_2))\n",
    "hidden_3 = tf.nn.relu(tf.add(tf.matmul(hidden_2, W_hidden_3), bias_hidden_3))\n",
    "hidden_4 = tf.nn.relu(tf.add(tf.matmul(hidden_3, W_hidden_4), bias_hidden_4))\n",
    "\n",
    "# Output layer\n",
    "out = tf.transpose(tf.add(tf.matmul(hidden_4, W_out), bias_out))"
   ]
  },
  {
   "cell_type": "code",
   "execution_count": 77,
   "metadata": {
    "collapsed": true
   },
   "outputs": [],
   "source": [
    "# Cost function\n",
    "mse = tf.reduce_mean(tf.squared_difference(out, Y))"
   ]
  },
  {
   "cell_type": "code",
   "execution_count": 78,
   "metadata": {
    "collapsed": true
   },
   "outputs": [],
   "source": [
    "# Optimizer\n",
    "opt = tf.train.AdamOptimizer().minimize(mse)"
   ]
  },
  {
   "cell_type": "code",
   "execution_count": null,
   "metadata": {
    "collapsed": true
   },
   "outputs": [],
   "source": [
    "saver = tf.train.Saver(max_to_keep=10)"
   ]
  },
  {
   "cell_type": "code",
   "execution_count": 79,
   "metadata": {
    "collapsed": false
   },
   "outputs": [
    {
     "name": "stdout",
     "output_type": "stream",
     "text": [
      "160086780.0\n"
     ]
    }
   ],
   "source": [
    "# Make Session\n",
    "net = tf.Session()\n",
    "# Run initializer\n",
    "net.run(tf.global_variables_initializer())\n",
    "\n",
    "\n",
    "\n",
    "# Number of epochs and batch size\n",
    "epochs = 1000\n",
    "batch_size = 256\n",
    "\n",
    "for e in range(epochs):\n",
    "\n",
    "    # Shuffle training data\n",
    "    shuffle_indices = np.random.permutation(np.arange(len(y_train)))\n",
    "    X_train = X_train[shuffle_indices]\n",
    "    y_train = y_train[shuffle_indices]\n",
    "\n",
    "    # Minibatch training\n",
    "    for i in range(0, len(y_train) // batch_size):\n",
    "        start = i * batch_size\n",
    "        batch_x = X_train[start:start + batch_size]\n",
    "        batch_y = y_train[start:start + batch_size]\n",
    "        # Run optimizer with batch\n",
    "        net.run(opt, feed_dict={X: batch_x, Y: batch_y})\n",
    "\n",
    "        # Show progress\n",
    "        if np.mod(i, 5) == 0:\n",
    "            # Prediction\n",
    "            pred = net.run(out, feed_dict={X: X_test})\n",
    "            \n",
    "            \n",
    "\n",
    "# Print final MSE after Training\n",
    "mse_final = net.run(mse, feed_dict={X: X_test, Y: y_test})\n",
    "saver.save(net, \"checkpoint/sale_price.ckpt\")\n",
    "print(mse_final) "
   ]
  },
  {
   "cell_type": "code",
   "execution_count": 80,
   "metadata": {
    "collapsed": false
   },
   "outputs": [
    {
     "data": {
      "text/plain": [
       "12652.540614437876"
      ]
     },
     "execution_count": 80,
     "metadata": {},
     "output_type": "execute_result"
    }
   ],
   "source": [
    "import math\n",
    "\n",
    "math.sqrt(mse_final)"
   ]
  },
  {
   "cell_type": "code",
   "execution_count": null,
   "metadata": {
    "collapsed": true
   },
   "outputs": [],
   "source": []
  },
  {
   "cell_type": "code",
   "execution_count": null,
   "metadata": {
    "collapsed": true
   },
   "outputs": [],
   "source": []
  },
  {
   "cell_type": "code",
   "execution_count": null,
   "metadata": {
    "collapsed": true
   },
   "outputs": [],
   "source": []
  },
  {
   "cell_type": "code",
   "execution_count": null,
   "metadata": {
    "collapsed": true
   },
   "outputs": [],
   "source": []
  },
  {
   "cell_type": "code",
   "execution_count": null,
   "metadata": {
    "collapsed": true
   },
   "outputs": [],
   "source": []
  },
  {
   "cell_type": "code",
   "execution_count": null,
   "metadata": {
    "collapsed": true
   },
   "outputs": [],
   "source": []
  },
  {
   "cell_type": "code",
   "execution_count": null,
   "metadata": {
    "collapsed": true
   },
   "outputs": [],
   "source": []
  },
  {
   "cell_type": "code",
   "execution_count": null,
   "metadata": {
    "collapsed": true
   },
   "outputs": [],
   "source": []
  },
  {
   "cell_type": "code",
   "execution_count": null,
   "metadata": {
    "collapsed": true
   },
   "outputs": [],
   "source": []
  },
  {
   "cell_type": "code",
   "execution_count": null,
   "metadata": {
    "collapsed": true
   },
   "outputs": [],
   "source": []
  },
  {
   "cell_type": "code",
   "execution_count": null,
   "metadata": {
    "collapsed": true
   },
   "outputs": [],
   "source": []
  },
  {
   "cell_type": "code",
   "execution_count": null,
   "metadata": {
    "collapsed": true
   },
   "outputs": [],
   "source": []
  },
  {
   "cell_type": "code",
   "execution_count": null,
   "metadata": {
    "collapsed": true
   },
   "outputs": [],
   "source": []
  },
  {
   "cell_type": "code",
   "execution_count": null,
   "metadata": {
    "collapsed": true
   },
   "outputs": [],
   "source": []
  },
  {
   "cell_type": "code",
   "execution_count": null,
   "metadata": {
    "collapsed": true
   },
   "outputs": [],
   "source": []
  },
  {
   "cell_type": "code",
   "execution_count": null,
   "metadata": {
    "collapsed": true
   },
   "outputs": [],
   "source": []
  },
  {
   "cell_type": "code",
   "execution_count": null,
   "metadata": {
    "collapsed": true
   },
   "outputs": [],
   "source": []
  },
  {
   "cell_type": "code",
   "execution_count": null,
   "metadata": {
    "collapsed": true
   },
   "outputs": [],
   "source": []
  },
  {
   "cell_type": "code",
   "execution_count": null,
   "metadata": {
    "collapsed": true
   },
   "outputs": [],
   "source": []
  },
  {
   "cell_type": "code",
   "execution_count": null,
   "metadata": {
    "collapsed": true
   },
   "outputs": [],
   "source": []
  },
  {
   "cell_type": "code",
   "execution_count": null,
   "metadata": {
    "collapsed": true
   },
   "outputs": [],
   "source": []
  },
  {
   "cell_type": "code",
   "execution_count": null,
   "metadata": {
    "collapsed": true
   },
   "outputs": [],
   "source": []
  },
  {
   "cell_type": "code",
   "execution_count": null,
   "metadata": {
    "collapsed": true
   },
   "outputs": [],
   "source": []
  },
  {
   "cell_type": "code",
   "execution_count": null,
   "metadata": {
    "collapsed": true
   },
   "outputs": [],
   "source": []
  },
  {
   "cell_type": "code",
   "execution_count": null,
   "metadata": {
    "collapsed": true
   },
   "outputs": [],
   "source": []
  },
  {
   "cell_type": "code",
   "execution_count": null,
   "metadata": {
    "collapsed": true
   },
   "outputs": [],
   "source": []
  },
  {
   "cell_type": "code",
   "execution_count": null,
   "metadata": {
    "collapsed": true
   },
   "outputs": [],
   "source": []
  },
  {
   "cell_type": "code",
   "execution_count": null,
   "metadata": {
    "collapsed": true
   },
   "outputs": [],
   "source": []
  }
 ],
 "metadata": {
  "anaconda-cloud": {},
  "kernelspec": {
   "display_name": "Python [conda env:tensorflow]",
   "language": "python",
   "name": "conda-env-tensorflow-py"
  },
  "language_info": {
   "codemirror_mode": {
    "name": "ipython",
    "version": 3
   },
   "file_extension": ".py",
   "mimetype": "text/x-python",
   "name": "python",
   "nbconvert_exporter": "python",
   "pygments_lexer": "ipython3",
   "version": "3.5.3"
  }
 },
 "nbformat": 4,
 "nbformat_minor": 2
}
